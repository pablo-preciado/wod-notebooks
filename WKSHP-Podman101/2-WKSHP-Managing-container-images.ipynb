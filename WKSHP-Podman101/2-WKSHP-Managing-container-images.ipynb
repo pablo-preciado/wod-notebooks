{
 "cells": [
  {
   "cell_type": "markdown",
   "metadata": {},
   "source": [
    "![Podmanlogo](Pictures/podman-logo.png)"
   ]
  },
  {
   "cell_type": "markdown",
   "metadata": {},
   "source": [
    "# Managing container images\n",
    "\n",
    "In the previous section of this workshop we've seen how to run container images pulled from different registries but, what if I want to create a container image for my own application? No worries, podman has your back.\n",
    "\n",
    "Podman can be used for building your own container images and push them to a container registry. In order to do it you need to first build a file called \"Containerfile\" and then used the \"podman build\" command to create your image out of the content of the Containerfile.\n",
    "\n",
    "Lets see an example.\n",
    "\n",
    "## Creating a new container image\n",
    "\n",
    "Lets begin by creating a new Container file with the definition of our container image:"
   ]
  },
  {
   "cell_type": "code",
   "execution_count": 1,
   "metadata": {
    "vscode": {
     "languageId": "shellscript"
    }
   },
   "outputs": [
    {
     "name": "stdout",
     "output_type": "stream",
     "text": [
      "FROM docker.io/redhat/ubi9\n",
      "RUN dnf -y update && dnf -y install httpd  && dnf clean all\n",
      "COPY index.html /var/www/html/index.html\n",
      "EXPOSE 80\n",
      "ENTRYPOINT /usr/sbin/httpd -DFOREGROUND\n"
     ]
    }
   ],
   "source": [
    "\n",
    "!echo -e \"FROM docker.io/redhat/ubi9\\nRUN dnf -y update && dnf -y install httpd  && dnf clean all\\nCOPY index.html /var/www/html/index.html\\nEXPOSE 80\\nENTRYPOINT /usr/sbin/httpd -DFOREGROUND\" > Containerfile\n",
    "!cat Containerfile"
   ]
  },
  {
   "cell_type": "markdown",
   "metadata": {},
   "source": [
    "The output of the command is the content of our newly created Containerfile. Let's review it line by line.\n",
    "\n",
    "First we have specified the \"FROM\" option, this line is mandatory, you need it to build your container image. With this line we specify the base container image that we will use for our application, in our example we've chosen a redhat/ubi9 image as base for our application. Choosing an image that you can trust is critical to maintain a secure environment, if your base image has vulnerabilities it may affect your application and potentially your whole enviroment. This is why we have chosen a Red Hat Universal Base Image (UBI) image for Red Hat Enterprise Linux 9 (RHEL9).\n",
    "\n",
    "Red Hat creates UBI images that can be used securely, there are many options for your UBI images, from the standard RHEL 8 or RHEL 9 to a much secure micro image and even images for specific types of applications (like http, nodejs, etc). You can find a detailed list of all the CVE's and security status of Red Hat's UBI images in this website: https://catalog.redhat.com/software/containers/search\n",
    "Also, if you're a Red Hat customer you will have full support for these images. But, if you're not, do not worry as some of this images are also uploaded to docker.io so you can access them and have enterprise grade security in your containers for free.\n",
    "\n",
    "With that we now that our application will be running on top of a trusted and secured container image, now we need to add our software layer. To do so we added the second line in which we used the \"RUN\" option to specify the command that needs to be executed to install the reuqired software in our container image. If you don't have any experience with RHEL, we're just using the dnf command to update all packages, install the httpd and clean the cache (this last step is used only to have lighter container image).\n",
    "\n",
    "Once the httpd package is installed we would like to customize the message that our containerized web server will show to the world. For that we used the \"COPY\" command. This command will copy a file from our local directory to inside the container that we are building, for our container we will be passing a file index.html from our local directory to the directory /var/www/html/ inside the container. We do this because we now that httpd uses that file to define the content to be posted through our web server.\n",
    "If we want it to work we will need to create the index.html file so it can the be copied inside the container. Let's do it."
   ]
  },
  {
   "cell_type": "code",
   "execution_count": 2,
   "metadata": {
    "vscode": {
     "languageId": "shellscript"
    }
   },
   "outputs": [
    {
     "name": "stdout",
     "output_type": "stream",
     "text": [
      "Hello from HPE Dev and Red Hat teams :)\n"
     ]
    }
   ],
   "source": [
    "!echo \"Hello from HPE Dev and Red Hat teams :)\" > index.html\n",
    "!cat index.html"
   ]
  },
  {
   "cell_type": "markdown",
   "metadata": {},
   "source": [
    "You see a message as output from the previous command, that is the message that our web server will be showing.\n",
    "\n",
    "Next line in our Containerfile is using the \"EXPOSE\" instruction. The EXPOSE instruction informs Podman that the container listens on the specified network ports at runtime, in our case the port 80.\n",
    "\n",
    "Last, an ENTRYPOINT allows you to configure the command that your container will run when started, in our case we want it to run the httpd binary to make sure our web server is running.\n",
    "\n",
    "Next thing we need to do is building our newly created container image and that is quite a simple task. We just need to run the following command:"
   ]
  },
  {
   "cell_type": "code",
   "execution_count": 3,
   "metadata": {
    "vscode": {
     "languageId": "shellscript"
    }
   },
   "outputs": [
    {
     "name": "stdout",
     "output_type": "stream",
     "text": [
      "STEP 1/5: FROM docker.io/redhat/ubi9\n",
      "STEP 2/5: RUN dnf -y update && dnf -y install httpd  && dnf clean all\n",
      "Updating Subscription Management repositories.\n",
      "Unable to read consumer identity\n",
      "Subscription Manager is operating in container mode.\n",
      "\n",
      "This system is not registered with an entitlement server. You can use subscription-manager to register.\n",
      "\n",
      "Red Hat Universal Base Image 9 (RPMs) - BaseOS  1.5 MB/s | 510 kB     00:00    \n",
      "Red Hat Universal Base Image 9 (RPMs) - AppStre 4.3 MB/s | 1.7 MB     00:00    \n",
      "Red Hat Universal Base Image 9 (RPMs) - CodeRea 688 kB/s | 187 kB     00:00    \n",
      "Dependencies resolved.\n",
      "================================================================================\n",
      " Package            Arch      Version                Repository            Size\n",
      "================================================================================\n",
      "Upgrading:\n",
      " curl-minimal       x86_64    7.76.1-23.el9_2.4      ubi-9-baseos-rpms    129 k\n",
      " libcurl-minimal    x86_64    7.76.1-23.el9_2.4      ubi-9-baseos-rpms    227 k\n",
      " libnghttp2         x86_64    1.43.0-5.el9_2.1       ubi-9-baseos-rpms     75 k\n",
      "\n",
      "Transaction Summary\n",
      "================================================================================\n",
      "Upgrade  3 Packages\n",
      "\n",
      "Total download size: 430 k\n",
      "Downloading Packages:\n",
      "(1/3): libnghttp2-1.43.0-5.el9_2.1.x86_64.rpm   448 kB/s |  75 kB     00:00    \n",
      "(2/3): libcurl-minimal-7.76.1-23.el9_2.4.x86_64 1.3 MB/s | 227 kB     00:00    \n",
      "(3/3): curl-minimal-7.76.1-23.el9_2.4.x86_64.rp 715 kB/s | 129 kB     00:00    \n",
      "--------------------------------------------------------------------------------\n",
      "Total                                           2.2 MB/s | 430 kB     00:00     \n",
      "Running transaction check\n",
      "Transaction check succeeded.\n",
      "Running transaction test\n",
      "Transaction test succeeded.\n",
      "Running transaction\n",
      "  Preparing        :                                                        1/1 \n",
      "  Upgrading        : libnghttp2-1.43.0-5.el9_2.1.x86_64                     1/6 \n",
      "  Upgrading        : libcurl-minimal-7.76.1-23.el9_2.4.x86_64               2/6 \n",
      "  Upgrading        : curl-minimal-7.76.1-23.el9_2.4.x86_64                  3/6 \n",
      "  Cleanup          : curl-minimal-7.76.1-23.el9_2.2.x86_64                  4/6 \n",
      "  Cleanup          : libcurl-minimal-7.76.1-23.el9_2.2.x86_64               5/6 \n",
      "  Cleanup          : libnghttp2-1.43.0-5.el9.x86_64                         6/6 \n",
      "  Running scriptlet: libnghttp2-1.43.0-5.el9.x86_64                         6/6 \n",
      "  Verifying        : curl-minimal-7.76.1-23.el9_2.4.x86_64                  1/6 \n",
      "  Verifying        : curl-minimal-7.76.1-23.el9_2.2.x86_64                  2/6 \n",
      "  Verifying        : libcurl-minimal-7.76.1-23.el9_2.4.x86_64               3/6 \n",
      "  Verifying        : libcurl-minimal-7.76.1-23.el9_2.2.x86_64               4/6 \n",
      "  Verifying        : libnghttp2-1.43.0-5.el9_2.1.x86_64                     5/6 \n",
      "  Verifying        : libnghttp2-1.43.0-5.el9.x86_64                         6/6 \n",
      "Installed products updated.\n",
      "\n",
      "Upgraded:\n",
      "  curl-minimal-7.76.1-23.el9_2.4.x86_64                                         \n",
      "  libcurl-minimal-7.76.1-23.el9_2.4.x86_64                                      \n",
      "  libnghttp2-1.43.0-5.el9_2.1.x86_64                                            \n",
      "\n",
      "Complete!\n",
      "Updating Subscription Management repositories.\n",
      "Unable to read consumer identity\n",
      "Subscription Manager is operating in container mode.\n",
      "\n",
      "This system is not registered with an entitlement server. You can use subscription-manager to register.\n",
      "\n",
      "Last metadata expiration check: 0:00:02 ago on Fri Oct 20 06:43:08 2023.\n",
      "Dependencies resolved.\n",
      "================================================================================\n",
      " Package              Arch     Version             Repository              Size\n",
      "================================================================================\n",
      "Installing:\n",
      " httpd                x86_64   2.4.53-11.el9_2.5   ubi-9-appstream-rpms    53 k\n",
      "Installing dependencies:\n",
      " apr                  x86_64   1.7.0-11.el9        ubi-9-appstream-rpms   127 k\n",
      " apr-util             x86_64   1.6.1-20.el9_2.1    ubi-9-appstream-rpms    97 k\n",
      " apr-util-bdb         x86_64   1.6.1-20.el9_2.1    ubi-9-appstream-rpms    14 k\n",
      " httpd-core           x86_64   2.4.53-11.el9_2.5   ubi-9-appstream-rpms   1.5 M\n",
      " httpd-filesystem     noarch   2.4.53-11.el9_2.5   ubi-9-appstream-rpms    17 k\n",
      " httpd-tools          x86_64   2.4.53-11.el9_2.5   ubi-9-appstream-rpms    87 k\n",
      " libbrotli            x86_64   1.0.9-6.el9         ubi-9-baseos-rpms      317 k\n",
      " mailcap              noarch   2.1.49-5.el9        ubi-9-baseos-rpms       35 k\n",
      " redhat-logos-httpd   noarch   90.4-1.el9          ubi-9-appstream-rpms    18 k\n",
      "Installing weak dependencies:\n",
      " apr-util-openssl     x86_64   1.6.1-20.el9_2.1    ubi-9-appstream-rpms    16 k\n",
      " mod_http2            x86_64   1.15.19-4.el9_2.4   ubi-9-appstream-rpms   153 k\n",
      " mod_lua              x86_64   2.4.53-11.el9_2.5   ubi-9-appstream-rpms    63 k\n",
      "\n",
      "Transaction Summary\n",
      "================================================================================\n",
      "Install  13 Packages\n",
      "\n",
      "Total download size: 2.5 M\n",
      "Installed size: 6.7 M\n",
      "Downloading Packages:\n",
      "(1/13): mailcap-2.1.49-5.el9.noarch.rpm         225 kB/s |  35 kB     00:00    \n",
      "(2/13): apr-1.7.0-11.el9.x86_64.rpm             642 kB/s | 127 kB     00:00    \n",
      "(3/13): libbrotli-1.0.9-6.el9.x86_64.rpm        1.5 MB/s | 317 kB     00:00    \n",
      "(4/13): redhat-logos-httpd-90.4-1.el9.noarch.rp 414 kB/s |  18 kB     00:00    \n",
      "(5/13): apr-util-bdb-1.6.1-20.el9_2.1.x86_64.rp 1.5 MB/s |  14 kB     00:00    \n",
      "(6/13): apr-util-openssl-1.6.1-20.el9_2.1.x86_6 1.5 MB/s |  16 kB     00:00    \n",
      "(7/13): apr-util-1.6.1-20.el9_2.1.x86_64.rpm    6.2 MB/s |  97 kB     00:00    \n",
      "(8/13): httpd-filesystem-2.4.53-11.el9_2.5.noar 1.6 MB/s |  17 kB     00:00    \n",
      "(9/13): httpd-2.4.53-11.el9_2.5.x86_64.rpm      3.2 MB/s |  53 kB     00:00    \n",
      "(10/13): httpd-tools-2.4.53-11.el9_2.5.x86_64.r 6.7 MB/s |  87 kB     00:00    \n",
      "(11/13): mod_lua-2.4.53-11.el9_2.5.x86_64.rpm   4.2 MB/s |  63 kB     00:00    \n",
      "(12/13): httpd-core-2.4.53-11.el9_2.5.x86_64.rp  21 MB/s | 1.5 MB     00:00    \n",
      "(13/13): mod_http2-1.15.19-4.el9_2.4.x86_64.rpm 2.5 MB/s | 153 kB     00:00    \n",
      "--------------------------------------------------------------------------------\n",
      "Total                                           8.3 MB/s | 2.5 MB     00:00     \n",
      "Running transaction check\n",
      "Transaction check succeeded.\n",
      "Running transaction test\n",
      "Transaction test succeeded.\n",
      "Running transaction\n",
      "  Preparing        :                                                        1/1 \n",
      "  Installing       : apr-1.7.0-11.el9.x86_64                               1/13 \n",
      "  Installing       : apr-util-bdb-1.6.1-20.el9_2.1.x86_64                  2/13 \n",
      "  Installing       : apr-util-openssl-1.6.1-20.el9_2.1.x86_64              3/13 \n",
      "  Installing       : apr-util-1.6.1-20.el9_2.1.x86_64                      4/13 \n",
      "  Installing       : httpd-tools-2.4.53-11.el9_2.5.x86_64                  5/13 \n",
      "  Running scriptlet: httpd-filesystem-2.4.53-11.el9_2.5.noarch             6/13 \n",
      "  Installing       : httpd-filesystem-2.4.53-11.el9_2.5.noarch             6/13 \n",
      "  Installing       : redhat-logos-httpd-90.4-1.el9.noarch                  7/13 \n",
      "  Installing       : mailcap-2.1.49-5.el9.noarch                           8/13 \n",
      "  Installing       : httpd-core-2.4.53-11.el9_2.5.x86_64                   9/13 \n",
      "  Installing       : mod_http2-1.15.19-4.el9_2.4.x86_64                   10/13 \n",
      "  Installing       : mod_lua-2.4.53-11.el9_2.5.x86_64                     11/13 \n",
      "  Installing       : libbrotli-1.0.9-6.el9.x86_64                         12/13 \n",
      "  Installing       : httpd-2.4.53-11.el9_2.5.x86_64                       13/13 \n",
      "  Running scriptlet: httpd-2.4.53-11.el9_2.5.x86_64                       13/13 \n",
      "  Verifying        : libbrotli-1.0.9-6.el9.x86_64                          1/13 \n",
      "  Verifying        : mailcap-2.1.49-5.el9.noarch                           2/13 \n",
      "  Verifying        : apr-1.7.0-11.el9.x86_64                               3/13 \n",
      "  Verifying        : redhat-logos-httpd-90.4-1.el9.noarch                  4/13 \n",
      "  Verifying        : apr-util-1.6.1-20.el9_2.1.x86_64                      5/13 \n",
      "  Verifying        : apr-util-bdb-1.6.1-20.el9_2.1.x86_64                  6/13 \n",
      "  Verifying        : apr-util-openssl-1.6.1-20.el9_2.1.x86_64              7/13 \n",
      "  Verifying        : httpd-2.4.53-11.el9_2.5.x86_64                        8/13 \n",
      "  Verifying        : httpd-core-2.4.53-11.el9_2.5.x86_64                   9/13 \n",
      "  Verifying        : httpd-filesystem-2.4.53-11.el9_2.5.noarch            10/13 \n",
      "  Verifying        : httpd-tools-2.4.53-11.el9_2.5.x86_64                 11/13 \n",
      "  Verifying        : mod_http2-1.15.19-4.el9_2.4.x86_64                   12/13 \n",
      "  Verifying        : mod_lua-2.4.53-11.el9_2.5.x86_64                     13/13 \n",
      "Installed products updated.\n",
      "\n",
      "Installed:\n",
      "  apr-1.7.0-11.el9.x86_64                                                       \n",
      "  apr-util-1.6.1-20.el9_2.1.x86_64                                              \n",
      "  apr-util-bdb-1.6.1-20.el9_2.1.x86_64                                          \n",
      "  apr-util-openssl-1.6.1-20.el9_2.1.x86_64                                      \n",
      "  httpd-2.4.53-11.el9_2.5.x86_64                                                \n",
      "  httpd-core-2.4.53-11.el9_2.5.x86_64                                           \n",
      "  httpd-filesystem-2.4.53-11.el9_2.5.noarch                                     \n",
      "  httpd-tools-2.4.53-11.el9_2.5.x86_64                                          \n",
      "  libbrotli-1.0.9-6.el9.x86_64                                                  \n",
      "  mailcap-2.1.49-5.el9.noarch                                                   \n",
      "  mod_http2-1.15.19-4.el9_2.4.x86_64                                            \n",
      "  mod_lua-2.4.53-11.el9_2.5.x86_64                                              \n",
      "  redhat-logos-httpd-90.4-1.el9.noarch                                          \n",
      "\n",
      "Complete!\n",
      "Updating Subscription Management repositories.\n",
      "Unable to read consumer identity\n",
      "Subscription Manager is operating in container mode.\n",
      "\n",
      "This system is not registered with an entitlement server. You can use subscription-manager to register.\n",
      "\n",
      "26 files removed\n",
      "--> f32b5e7ab225\n",
      "STEP 3/5: COPY index.html /var/www/html/index.html\n",
      "--> 35a8011c70b4\n",
      "STEP 4/5: EXPOSE 80\n",
      "--> f023695fff9e\n",
      "STEP 5/5: ENTRYPOINT /usr/sbin/httpd -DFOREGROUND\n",
      "COMMIT rhel9:myhttpd\n",
      "--> 2049b75e789a\n",
      "Successfully tagged localhost/rhel9:myhttpd\n",
      "2049b75e789a89619fcbffe64a78b24ab5c331282192f719b68a9c153173af42\n"
     ]
    }
   ],
   "source": [
    "!podman build --tag rhel9:myhttpd -f ./Containerfile"
   ]
  },
  {
   "cell_type": "markdown",
   "metadata": {},
   "source": [
    "As you can see we passed two options to the podman build command. The first one, the tag option, specifies the name and tag of the container, in our case the name is rhel9 and myhttpd is the tag. Next we have used the \"-f\" option to specify the Containerfile that we want to use for building our container, by default podman build would take any file called Containerfile in the current directory but it's a best practice to use the \"-f\" option to make sure we use the correct file.\n",
    "\n",
    "Our container image is now stored locally in our server and we can see it by running the following command:"
   ]
  },
  {
   "cell_type": "code",
   "execution_count": 9,
   "metadata": {
    "vscode": {
     "languageId": "shellscript"
    }
   },
   "outputs": [
    {
     "name": "stdout",
     "output_type": "stream",
     "text": [
      "REPOSITORY                                                          TAG         IMAGE ID      CREATED         SIZE\n",
      "localhost/rhel9                                                     myhttpd     2049b75e789a  33 minutes ago  242 MB\n",
      "<none>                                                              <none>      95f0b9bd1c87  15 hours ago    314 MB\n",
      "localhost/fedora                                                    myhttpd     bb83b1e58a8d  16 hours ago    353 MB\n",
      "docker.io/redhat/ubi9-minimal                                       latest      d1a1af5ad0ce  44 hours ago    97.4 MB\n",
      "quay.io/skupper/skupper-router                                      2.4.3       9f6d24d58351  10 days ago     275 MB\n",
      "registry.fedoraproject.org/fedora                                   latest      a1cd3cbf8ada  2 weeks ago     195 MB\n",
      "docker.io/redhat/ubi9                                               latest      07f698e0f2e0  2 weeks ago     217 MB\n",
      "docker.io/library/nginx                                             latest      61395b4c586d  4 weeks ago     191 MB\n",
      "localhost/bcl-ov                                                    15          ef3ba4fe4c30  6 weeks ago     717 MB\n",
      "<none>                                                              <none>      2be670a5b439  6 weeks ago     803 MB\n",
      "<none>                                                              <none>      7a4c1f405114  6 weeks ago     369 MB\n",
      "quay.io/podman/hello                                                latest      e2b3db5d4fdf  7 weeks ago     82.3 kB\n",
      "quay.io/mschreie/bcl-ov                                             14          a3e1ce7d79a7  2 months ago    717 MB\n",
      "<none>                                                              <none>      af6827d3105f  2 months ago    299 MB\n",
      "quay.io/redhat_emp1/ee-ansible-ssa                                  latest      38437b6fdefe  2 months ago    1.7 GB\n",
      "<none>                                                              <none>      d44bc6403893  3 months ago    816 MB\n",
      "<none>                                                              <none>      698da9f60ccb  3 months ago    816 MB\n",
      "<none>                                                              <none>      005379e9a001  3 months ago    783 MB\n",
      "<none>                                                              <none>      2774d1848e63  3 months ago    821 MB\n",
      "registry.redhat.io/ansible-automation-platform-23/ee-minimal-rhel8  1.0.0-294   a45df9628f1c  6 months ago    299 MB\n",
      "quay.io/skupper/patient-portal-database                             latest      cbe62f638a2d  17 months ago   384 MB\n",
      "quay.io/ansible/ansible-runner                                      latest      bec0dc171168  17 months ago   816 MB\n",
      "quay.io/ansible/ansible-builder                                     latest      b0348faa7f41  20 months ago   779 MB\n"
     ]
    }
   ],
   "source": [
    "!podman images"
   ]
  },
  {
   "cell_type": "markdown",
   "metadata": {},
   "source": [
    "Our brand new container image is listed in the repository localhost/rhel9 and the tag myhttpd as we specified. Now our image is limited to be used in our local system, if we wanted to use it from other platforms we should upload the image to a container registry by running the command \"podman push\". We wont be doing this in this workshop, but you can look at all the details on how to use it by running \"man podman-push\".\n",
    "\n",
    "As a last step let's run our image and check if it works fine."
   ]
  },
  {
   "cell_type": "code",
   "execution_count": 6,
   "metadata": {
    "vscode": {
     "languageId": "shellscript"
    }
   },
   "outputs": [
    {
     "name": "stdout",
     "output_type": "stream",
     "text": [
      "986fe5beb5fd53a864e812fa955974d73e9a94698e3e023abd1e0f0090cbff1b\n"
     ]
    }
   ],
   "source": [
    "!podman run -d -p 8080:80 --name myhttpd --rm rhel9:myhttpd"
   ]
  },
  {
   "cell_type": "markdown",
   "metadata": {},
   "source": [
    "We called our container \"myhttpd\" and pay attention to the option \"-p\". With this option we specified that the port 8080 of my system will be mapped to the port 80 of my container, if you remember correctly we specified in our Containerfile that our application was using the port 80 and now if anything within our network reaches the port 8080 of our RHEL machine it will be redirected to the port 80 of the container.\n",
    "\n",
    "Lets test it by running a curl command against our local machine and the output should be the text we specified previously in our index.html file:"
   ]
  },
  {
   "cell_type": "code",
   "execution_count": 7,
   "metadata": {
    "vscode": {
     "languageId": "shellscript"
    }
   },
   "outputs": [
    {
     "name": "stdout",
     "output_type": "stream",
     "text": [
      "Hello from HPE Dev and Red Hat teams :)\n"
     ]
    }
   ],
   "source": [
    "!curl localhost:8080"
   ]
  },
  {
   "cell_type": "markdown",
   "metadata": {},
   "source": [
    "As last step of this section we are going to clean up the environment. The command \"podman rmi\" is used to remove container images from the local system."
   ]
  },
  {
   "cell_type": "code",
   "execution_count": 8,
   "metadata": {
    "vscode": {
     "languageId": "shellscript"
    }
   },
   "outputs": [
    {
     "name": "stdout",
     "output_type": "stream",
     "text": [
      "986fe5beb5fd53a864e812fa955974d73e9a94698e3e023abd1e0f0090cbff1b\n",
      "REPOSITORY  TAG         IMAGE ID    CREATED     SIZE\n"
     ]
    }
   ],
   "source": [
    "!podman stop --all\n",
    "!podman rm --all\n",
    "!podman rmi localhost/rhel9:myhttpd\n",
    "!rm ./Containerfile\n",
    "!rm index.html"
   ]
  }
 ],
 "metadata": {
  "kernelspec": {
   "display_name": "Python 3",
   "language": "python",
   "name": "python3"
  },
  "language_info": {
   "codemirror_mode": {
    "name": "ipython",
    "version": 3
   },
   "file_extension": ".py",
   "mimetype": "text/x-python",
   "name": "python",
   "nbconvert_exporter": "python",
   "pygments_lexer": "ipython3",
   "version": "3.11.6"
  }
 },
 "nbformat": 4,
 "nbformat_minor": 2
}
