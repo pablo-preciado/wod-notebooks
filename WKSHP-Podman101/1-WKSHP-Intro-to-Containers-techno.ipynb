{
 "cells": [
  {
   "cell_type": "markdown",
   "metadata": {},
   "source": [
    "![Podmanlogo](Pictures/podman-logo.png)"
   ]
  },
  {
   "cell_type": "markdown",
   "metadata": {},
   "source": [
    "# What is Podman?\n",
    "\n",
    "As described by the Podman website itself it is:\n",
    "\n",
    "    Podman is a daemonless, open source, Linux native tool designed to make it easy to find, run, build, share and deploy applications using Open Containers Initiative (OCI) Containers and Container Images. Podman provides a command line interface (CLI) familiar to anyone who has used the Docker Container Engine. Most users can simply alias Docker to Podman (alias docker=podman) without any problems. Similar to other common Container Engines (Docker, CRI-O, containerd), Podman relies on an OCI compliant Container Runtime (runc, crun, runv, etc) to interface with the operating system and create the running containers. This makes the running containers created by Podman nearly indistinguishable from those created by any other common container engine.\n",
    "\n",
    "With simple words it's a container engine that is so similar to Docker that you can just use an alias and run docker-like commands. This brings to mind an obvious question, if it's so similar to Docker why would you use Podman instead? The answer is security.\n",
    "The previous paragraph starts describing Podman as a \"daemonless\" container engine and that's the main difference with Docker. Later in this workshop we'll explain security features in Podman, for the moment just keep in mind that as Podman doesn't have a daemon it doesn't need to use the root user for anything, therefore the execution of containers is secured by design. There are other benefits of using a daemonless architecture like better performance.\n",
    "\n",
    "This is explained differently in Podman website:\n",
    "\n",
    "    Containers under the control of Podman can either be run by root or by a non-privileged user. Podman manages the entire container ecosystem which includes pods, containers, container images, and container volumes using the libpod library. Podman specializes in all of the commands and functions that help you to maintain and modify OCI container images, such as pulling and tagging. It allows you to create, run, and maintain those containers and container images in a production environment.\n",
    "\n",
    "Moreover, podman has gone further and brings some new functionalities that will help enterprises looking at container adoption for their workloads. We will explain some of these during this workshop.\n",
    "\n",
    "# Podman hello world: pulling and executing your first container image\n",
    "\n",
    "Just like any other container engine, Podman has the ability to manage and execute container images. A container image is a static image that contains an applications with all it's dependencies. Because the dependencies are included within the container image we can expect the same application behaviour if it's executed in different hosts, solving one of the most widespread problems for developers: \"it worked in my environment\".\n",
    "\n",
    "Container images are stored in container registries, by default Podman will look for container images in quay.io, registry.redhat.io and docker.io. You can configure additional registries by modifying the file /etc/containers/registries.conf, we'll not cover this advanced configuration during this workshop.\n",
    "\n",
    "The way Podman works with container images is it locally downloads (or pulls) images from registry. Hence, first thing we want to do is checking if we have any image downloaded locally:"
   ]
  },
  {
   "cell_type": "code",
   "execution_count": null,
   "metadata": {
    "vscode": {
     "languageId": "shellscript"
    }
   },
   "outputs": [],
   "source": [
    "%login student{{ STDID }}@ {{ IP-WKSHP-Podman101 }}"
   ]
  },
  {
   "cell_type": "code",
   "execution_count": 1,
   "metadata": {},
   "outputs": [
    {
     "name": "stdout",
     "output_type": "stream",
     "text": [
      "[ssh] Login to student491@16.31.86.187...\n",
      "[ssh] host=student491@16.31.86.187 hostname=16.31.86.187 other_conf={'user': 'student491', 'port': None, 'keyfile': None, 'load_system_ssh_config': False, 'missing_host_policy': <paramiko.client.WarningPolicy object at 0x7f6b4c58bdc0>}\n",
      "[ssh] Successfully logged in.\n"
     ]
    }
   ],
   "source": [
    "%login student491@16.31.86.187"
   ]
  },
  {
   "cell_type": "code",
   "execution_count": null,
   "metadata": {
    "vscode": {
     "languageId": "shellscript"
    }
   },
   "outputs": [],
   "source": [
    "podman images"
   ]
  },
  {
   "cell_type": "markdown",
   "metadata": {},
   "source": [
    "You should have no images locally. Download your first image, the podman hello-world image, by running the following command:"
   ]
  },
  {
   "cell_type": "code",
   "execution_count": null,
   "metadata": {
    "vscode": {
     "languageId": "shellscript"
    }
   },
   "outputs": [],
   "source": [
    "podman pull hello-world"
   ]
  },
  {
   "cell_type": "markdown",
   "metadata": {},
   "source": [
    "Now check if your image was pulled correctly by running again the podman images command:"
   ]
  },
  {
   "cell_type": "code",
   "execution_count": null,
   "metadata": {
    "vscode": {
     "languageId": "shellscript"
    }
   },
   "outputs": [],
   "source": [
    "podman images"
   ]
  },
  {
   "cell_type": "markdown",
   "metadata": {},
   "source": [
    "You should find the hello-world image is locally downloaded in your system. This only means that we have a static image that contains our application and its dependancies locally sync'ed. Next thing we would like to do is to execute that static image:"
   ]
  },
  {
   "cell_type": "code",
   "execution_count": null,
   "metadata": {
    "vscode": {
     "languageId": "shellscript"
    }
   },
   "outputs": [],
   "source": [
    "podman run hello-world"
   ]
  },
  {
   "cell_type": "markdown",
   "metadata": {},
   "source": [
    "# Executing containerized applications\n",
    "\n",
    "During last exercise we downloaded a container image and executed it. With the following command Podman will show the containers that are being executed right now:"
   ]
  },
  {
   "cell_type": "code",
   "execution_count": null,
   "metadata": {
    "vscode": {
     "languageId": "shellscript"
    }
   },
   "outputs": [],
   "source": [
    "podman ps"
   ]
  },
  {
   "cell_type": "markdown",
   "metadata": {},
   "source": [
    "As you can see, the output is empty. This is because the container that we executed runs a process that ends after printing in the screen the \"Hello Podman World\" message and once the main process of a container is finished the container itself will stop being executed.\n",
    "But no worries, Podman got us covered, if we want to see all the containers that are being executed and those whose execution finished some time ago we just need to add the \"-a\" to the previous command."
   ]
  },
  {
   "cell_type": "code",
   "execution_count": null,
   "metadata": {
    "vscode": {
     "languageId": "shellscript"
    }
   },
   "outputs": [],
   "source": [
    "podman ps -a"
   ]
  },
  {
   "cell_type": "markdown",
   "metadata": {},
   "source": [
    "There you can see the container we executed before with a status of \"Exited\".\n",
    "\n",
    "Lets see what happens if we execute a container whose process don't finish unless specified:"
   ]
  },
  {
   "cell_type": "code",
   "execution_count": 2,
   "metadata": {
    "scrolled": true,
    "vscode": {
     "languageId": "shellscript"
    }
   },
   "outputs": [
    {
     "name": "stdout",
     "output_type": "stream",
     "text": [
      "[ssh] host = student491@16.31.86.187, cwd = /student/student491\n",
      "/docker-entrypoint.sh: /docker-entrypoint.d/ is not empty, will attempt to perform configuration\n",
      "/docker-entrypoint.sh: Looking for shell scripts in /docker-entrypoint.d/\n",
      "/docker-entrypoint.sh: Launching /docker-entrypoint.d/10-listen-on-ipv6-by-default.sh\n",
      "10-listen-on-ipv6-by-default.sh: info: Getting the checksum of /etc/nginx/conf.d/default.conf\n",
      "10-listen-on-ipv6-by-default.sh: info: Enabled listen on IPv6 in /etc/nginx/conf.d/default.conf\n",
      "/docker-entrypoint.sh: Sourcing /docker-entrypoint.d/15-local-resolvers.envsh\n",
      "/docker-entrypoint.sh: Launching /docker-entrypoint.d/20-envsubst-on-templates.sh\n",
      "/docker-entrypoint.sh: Launching /docker-entrypoint.d/30-tune-worker-processes.sh\n",
      "/docker-entrypoint.sh: Configuration complete; ready for start up\n",
      "2023/10/27 07:59:47 [notice] 1#1: using the \"epoll\" event method\n",
      "2023/10/27 07:59:47 [notice] 1#1: nginx/1.25.3\n",
      "2023/10/27 07:59:47 [notice] 1#1: built by gcc 12.2.0 (Debian 12.2.0-14) \n",
      "2023/10/27 07:59:47 [notice] 1#1: OS: Linux 4.18.0-477.21.1.el8_8.x86_64\n",
      "2023/10/27 07:59:47 [notice] 1#1: getrlimit(RLIMIT_NOFILE): 262144:262144\n",
      "2023/10/27 07:59:47 [notice] 1#1: start worker processes\n",
      "2023/10/27 07:59:47 [notice] 1#1: start worker process 29\n",
      "2023/10/27 07:59:47 [notice] 1#1: start worker process 30\n",
      "2023/10/27 07:59:47 [notice] 1#1: start worker process 31\n",
      "2023/10/27 07:59:47 [notice] 1#1: start worker process 32\n",
      "2023/10/27 07:59:47 [notice] 1#1: start worker process 33\n",
      "2023/10/27 07:59:47 [notice] 1#1: start worker process 34\n",
      "2023/10/27 07:59:47 [notice] 1#1: start worker process 35\n",
      "2023/10/27 07:59:47 [notice] 1#1: start worker process 36\n"
     ]
    },
    {
     "name": "stderr",
     "output_type": "stream",
     "text": [
      "\u001b[0;31m* interrupt...\n",
      "\u001b[0m\u001b[0;31mTraceback (most recent call last):\n",
      "  File \"/opt/jupyterhub/lib/python3.8/site-packages/sshkernel/kernel.py\", line 115, in do_execute_direct\n",
      "    exitcode = self.sshwrapper.exec_command(code, self.Write)\n",
      "  File \"/opt/jupyterhub/lib/python3.8/site-packages/sshkernel/ssh_wrapper_plumbum.py\", line 51, in exec_command\n",
      "    env_info = process_output(tuple_iterator, marker, print_function)\n",
      "  File \"/opt/jupyterhub/lib/python3.8/site-packages/sshkernel/ssh_wrapper_plumbum.py\", line 204, in process_output\n",
      "    for line in iterator:\n",
      "  File \"/opt/jupyterhub/lib/python3.8/site-packages/sshkernel/ssh_wrapper_plumbum.py\", line 181, in merge_stdout_stderr\n",
      "    for (stdout, stderr) in iterator:\n",
      "  File \"/opt/jupyterhub/lib/python3.8/site-packages/plumbum/commands/processes.py\", line 367, in iter_lines\n",
      "    for t, line in _iter_lines(proc, decode, linesize, line_timeout):\n",
      "  File \"/opt/jupyterhub/lib/python3.8/site-packages/plumbum/machines/paramiko_machine.py\", line 508, in _iter_lines\n",
      "    for _ in selector():\n",
      "  File \"/opt/jupyterhub/lib/python3.8/site-packages/plumbum/machines/paramiko_machine.py\", line 498, in selector\n",
      "    ready = sel.select(line_timeout)\n",
      "  File \"/usr/lib/python3.8/selectors.py\", line 468, in select\n",
      "    fd_event_list = self._selector.poll(timeout, max_ev)\n",
      "KeyboardInterrupt\n",
      "\n",
      "\u001b[0m"
     ]
    },
    {
     "ename": "abort",
     "evalue": "1",
     "output_type": "error",
     "traceback": [
      "<class 'KeyboardInterrupt'>"
     ]
    }
   ],
   "source": [
    "podman run nginx"
   ]
  },
  {
   "cell_type": "markdown",
   "metadata": {},
   "source": [
    "You need to stop the process manually as the container process has taken all of your terminal. To do that you need to press the stop button on top of the jupyter notebook, as shown in this picture:\n",
    "\n",
    "ADD IMAGE\n",
    "\n",
    "If you want to run a container in the background, then you should add the option --detach (or simply -d)."
   ]
  },
  {
   "cell_type": "code",
   "execution_count": 3,
   "metadata": {
    "vscode": {
     "languageId": "shellscript"
    }
   },
   "outputs": [
    {
     "name": "stdout",
     "output_type": "stream",
     "text": [
      "[ssh] host = student491@16.31.86.187, cwd = /student/student491\n",
      "ca93056a7608ef5df74a49a0541951a07355a2c50f42f078eb9eb48be927b0c5\n"
     ]
    }
   ],
   "source": [
    "podman run --detach nginx"
   ]
  },
  {
   "cell_type": "markdown",
   "metadata": {},
   "source": [
    "Now, if you run the \"podman ps\" command you will see your nginx container with a status of \"Up\"."
   ]
  },
  {
   "cell_type": "code",
   "execution_count": 4,
   "metadata": {
    "vscode": {
     "languageId": "shellscript"
    }
   },
   "outputs": [
    {
     "name": "stdout",
     "output_type": "stream",
     "text": [
      "[ssh] host = student491@16.31.86.187, cwd = /student/student491\n",
      "CONTAINER ID  IMAGE                           COMMAND               CREATED        STATUS        PORTS       NAMES\n",
      "cbc0023b3673  docker.io/library/nginx:latest  nginx -g daemon o...  4 minutes ago  Up 4 minutes              blissful_cannon\n",
      "87832e67af0a  docker.io/library/nginx:latest  nginx -g daemon o...  3 minutes ago  Up 3 minutes              frosty_edison\n",
      "741da060fc7f  docker.io/library/nginx:latest  nginx -g daemon o...  3 minutes ago  Up 3 minutes              gallant_hypatia\n",
      "ca93056a7608  docker.io/library/nginx:latest  nginx -g daemon o...  4 seconds ago  Up 4 seconds              determined_dirac\n"
     ]
    }
   ],
   "source": [
    "podman ps"
   ]
  },
  {
   "cell_type": "markdown",
   "metadata": {},
   "source": [
    "You see the container has an ID and also a name. In this case the name was randomly generated as we did not specify any name, pay attention to next time we execute a container image as we will be giving it a name.\n",
    "\n",
    "You can stop all running containers by running the following:"
   ]
  },
  {
   "cell_type": "code",
   "execution_count": 5,
   "metadata": {
    "vscode": {
     "languageId": "shellscript"
    }
   },
   "outputs": [
    {
     "name": "stdout",
     "output_type": "stream",
     "text": [
      "[ssh] host = student491@16.31.86.187, cwd = /student/student491\n",
      "6a307bb7fd53cd25b66957fa2e51080f65964be4bee6ec7763abbf6238f3dae1\n",
      "741da060fc7f1d5ddcf6dc195474e846557dc035fa34632f93cea8384ccffa4c\n",
      "87832e67af0a994c07e8ffc8f5c0551593051ccd78875f5dd35fb22664d06e5f\n",
      "ca93056a7608ef5df74a49a0541951a07355a2c50f42f078eb9eb48be927b0c5\n",
      "cbc0023b3673b298b1249528171aea596ba1c53787cb8211509211227351f5f7\n"
     ]
    }
   ],
   "source": [
    "podman stop --all"
   ]
  },
  {
   "cell_type": "markdown",
   "metadata": {},
   "source": [
    "Now that all containers have beeen stopped run again \"podman ps\" to check if all of them were correctly stopped."
   ]
  },
  {
   "cell_type": "code",
   "execution_count": 6,
   "metadata": {
    "vscode": {
     "languageId": "shellscript"
    }
   },
   "outputs": [
    {
     "name": "stdout",
     "output_type": "stream",
     "text": [
      "[ssh] host = student491@16.31.86.187, cwd = /student/student491\n",
      "CONTAINER ID  IMAGE       COMMAND     CREATED     STATUS      PORTS       NAMES\n"
     ]
    }
   ],
   "source": [
    "podman ps"
   ]
  },
  {
   "cell_type": "markdown",
   "metadata": {},
   "source": [
    "As you can see the container is not present because \"podman ps\" only shows the containers that are being executed right now. If we use the \"-a\" option it will show all containers that are in execution right now but also those that were stopped, it'll show the stopped ones with an status of \"Exited\"."
   ]
  },
  {
   "cell_type": "code",
   "execution_count": 8,
   "metadata": {
    "vscode": {
     "languageId": "shellscript"
    }
   },
   "outputs": [
    {
     "name": "stdout",
     "output_type": "stream",
     "text": [
      "[ssh] host = student491@16.31.86.187, cwd = /student/student491\n",
      "CONTAINER ID  IMAGE                           COMMAND               CREATED         STATUS                    PORTS       NAMES\n",
      "6a307bb7fd53  quay.io/podman/hello:latest     /usr/local/bin/po...  6 minutes ago   Exited (0) 6 minutes ago              sad_gould\n",
      "cbc0023b3673  docker.io/library/nginx:latest  nginx -g daemon o...  5 minutes ago   Exited (0) 9 seconds ago              blissful_cannon\n",
      "87832e67af0a  docker.io/library/nginx:latest  nginx -g daemon o...  4 minutes ago   Exited (0) 9 seconds ago              frosty_edison\n",
      "741da060fc7f  docker.io/library/nginx:latest  nginx -g daemon o...  3 minutes ago   Exited (0) 9 seconds ago              gallant_hypatia\n",
      "ca93056a7608  docker.io/library/nginx:latest  nginx -g daemon o...  18 seconds ago  Exited (0) 9 seconds ago              determined_dirac\n"
     ]
    }
   ],
   "source": [
    "podman ps -a"
   ]
  },
  {
   "cell_type": "markdown",
   "metadata": {},
   "source": [
    "This means that containers are not deleted once the process is finished and you could simply restart any of them. We can do this by using the container ID, but for the sake of simplicity we will be creating a new container with a defined name:"
   ]
  },
  {
   "cell_type": "code",
   "execution_count": 9,
   "metadata": {
    "vscode": {
     "languageId": "shellscript"
    }
   },
   "outputs": [
    {
     "name": "stdout",
     "output_type": "stream",
     "text": [
      "[ssh] host = student491@16.31.86.187, cwd = /student/student491\n",
      "71864687721cfca31e315c34f00dbbafca8bcf7f1dd3d207f57778006c985d5c\n",
      "CONTAINER ID  IMAGE                           COMMAND               CREATED                 STATUS                 PORTS       NAMES\n",
      "71864687721c  docker.io/library/nginx:latest  nginx -g daemon o...  Less than a second ago  Up Less than a second              my-podman-container\n"
     ]
    }
   ],
   "source": [
    "podman run -d --name my-podman-container nginx\n",
    "podman ps"
   ]
  },
  {
   "cell_type": "markdown",
   "metadata": {},
   "source": [
    "See how we changed the long \"--detach\" option for a short \"-d\" but it works the same way. We also defined the name. So now we can just stop it by it's name."
   ]
  },
  {
   "cell_type": "code",
   "execution_count": 10,
   "metadata": {
    "vscode": {
     "languageId": "shellscript"
    }
   },
   "outputs": [
    {
     "name": "stdout",
     "output_type": "stream",
     "text": [
      "[ssh] host = student491@16.31.86.187, cwd = /student/student491\n",
      "my-podman-container\n",
      "CONTAINER ID  IMAGE                           COMMAND               CREATED         STATUS                             PORTS       NAMES\n",
      "6a307bb7fd53  quay.io/podman/hello:latest     /usr/local/bin/po...  6 minutes ago   Exited (0) 6 minutes ago                       sad_gould\n",
      "cbc0023b3673  docker.io/library/nginx:latest  nginx -g daemon o...  5 minutes ago   Exited (0) 13 seconds ago                      blissful_cannon\n",
      "87832e67af0a  docker.io/library/nginx:latest  nginx -g daemon o...  4 minutes ago   Exited (0) 13 seconds ago                      frosty_edison\n",
      "741da060fc7f  docker.io/library/nginx:latest  nginx -g daemon o...  3 minutes ago   Exited (0) 13 seconds ago                      gallant_hypatia\n",
      "ca93056a7608  docker.io/library/nginx:latest  nginx -g daemon o...  23 seconds ago  Exited (0) 13 seconds ago                      determined_dirac\n",
      "71864687721c  docker.io/library/nginx:latest  nginx -g daemon o...  2 seconds ago   Exited (0) Less than a second ago              my-podman-container\n"
     ]
    }
   ],
   "source": [
    "podman stop my-podman-container\n",
    "podman ps -a"
   ]
  },
  {
   "cell_type": "markdown",
   "metadata": {},
   "source": [
    "Now that it is stopped, we can restart it."
   ]
  },
  {
   "cell_type": "code",
   "execution_count": 11,
   "metadata": {
    "vscode": {
     "languageId": "shellscript"
    }
   },
   "outputs": [
    {
     "name": "stdout",
     "output_type": "stream",
     "text": [
      "[ssh] host = student491@16.31.86.187, cwd = /student/student491\n",
      "my-podman-container\n",
      "CONTAINER ID  IMAGE                           COMMAND               CREATED        STATUS                 PORTS       NAMES\n",
      "71864687721c  docker.io/library/nginx:latest  nginx -g daemon o...  4 seconds ago  Up Less than a second              my-podman-container\n"
     ]
    }
   ],
   "source": [
    "podman start my-podman-container\n",
    "podman ps"
   ]
  },
  {
   "cell_type": "markdown",
   "metadata": {},
   "source": [
    "While the container is running you can also inspect it to get to know all the information about it."
   ]
  },
  {
   "cell_type": "code",
   "execution_count": 12,
   "metadata": {
    "vscode": {
     "languageId": "shellscript"
    }
   },
   "outputs": [
    {
     "name": "stdout",
     "output_type": "stream",
     "text": [
      "[ssh] host = student491@16.31.86.187, cwd = /student/student491\n",
      "[\n",
      "     {\n",
      "          \"Id\": \"71864687721cfca31e315c34f00dbbafca8bcf7f1dd3d207f57778006c985d5c\",\n",
      "          \"Created\": \"2023-10-27T04:03:29.058128252-04:00\",\n",
      "          \"Path\": \"/docker-entrypoint.sh\",\n",
      "          \"Args\": [\n",
      "               \"nginx\",\n",
      "               \"-g\",\n",
      "               \"daemon off;\"\n",
      "          ],\n",
      "          \"State\": {\n",
      "               \"OciVersion\": \"1.1.0-rc.1\",\n",
      "               \"Status\": \"running\",\n",
      "               \"Running\": true,\n",
      "               \"Paused\": false,\n",
      "               \"Restarting\": false,\n",
      "               \"OOMKilled\": false,\n",
      "               \"Dead\": false,\n",
      "               \"Pid\": 239303,\n",
      "               \"ConmonPid\": 239292,\n",
      "               \"ExitCode\": 0,\n",
      "               \"Error\": \"\",\n",
      "               \"StartedAt\": \"2023-10-27T04:03:33.60964276-04:00\",\n",
      "               \"FinishedAt\": \"2023-10-27T04:03:31.218606563-04:00\",\n",
      "               \"Health\": {\n",
      "                    \"Status\": \"\",\n",
      "                    \"FailingStreak\": 0,\n",
      "                    \"Log\": null\n",
      "               },\n",
      "               \"CgroupPath\": \"/user.slice/user-2491.slice/session-438.scope\",\n",
      "               \"CheckpointedAt\": \"0001-01-01T00:00:00Z\",\n",
      "               \"RestoredAt\": \"0001-01-01T00:00:00Z\"\n",
      "          },\n",
      "          \"Image\": \"593aee2afb642798b83a85306d2625fd7f089c0a1242c7e75a237846d80aa2a0\",\n",
      "          \"ImageDigest\": \"sha256:add4792d930c25dd2abf2ef9ea79de578097a1c175a16ab25814332fe33622de\",\n",
      "          \"ImageName\": \"docker.io/library/nginx:latest\",\n",
      "          \"Rootfs\": \"\",\n",
      "          \"Pod\": \"\",\n",
      "          \"ResolvConfPath\": \"/run/user/2491/containers/overlay-containers/71864687721cfca31e315c34f00dbbafca8bcf7f1dd3d207f57778006c985d5c/userdata/resolv.conf\",\n",
      "          \"HostnamePath\": \"/run/user/2491/containers/overlay-containers/71864687721cfca31e315c34f00dbbafca8bcf7f1dd3d207f57778006c985d5c/userdata/hostname\",\n",
      "          \"HostsPath\": \"/run/user/2491/containers/overlay-containers/71864687721cfca31e315c34f00dbbafca8bcf7f1dd3d207f57778006c985d5c/userdata/hosts\",\n",
      "          \"StaticDir\": \"/student/student491/.local/share/containers/storage/overlay-containers/71864687721cfca31e315c34f00dbbafca8bcf7f1dd3d207f57778006c985d5c/userdata\",\n",
      "          \"OCIConfigPath\": \"/student/student491/.local/share/containers/storage/overlay-containers/71864687721cfca31e315c34f00dbbafca8bcf7f1dd3d207f57778006c985d5c/userdata/config.json\",\n",
      "          \"OCIRuntime\": \"runc\",\n",
      "          \"ConmonPidFile\": \"/run/user/2491/containers/overlay-containers/71864687721cfca31e315c34f00dbbafca8bcf7f1dd3d207f57778006c985d5c/userdata/conmon.pid\",\n",
      "          \"PidFile\": \"/run/user/2491/containers/overlay-containers/71864687721cfca31e315c34f00dbbafca8bcf7f1dd3d207f57778006c985d5c/userdata/pidfile\",\n",
      "          \"Name\": \"my-podman-container\",\n",
      "          \"RestartCount\": 0,\n",
      "          \"Driver\": \"overlay\",\n",
      "          \"MountLabel\": \"system_u:object_r:container_file_t:s0:c595,c842\",\n",
      "          \"ProcessLabel\": \"system_u:system_r:container_t:s0:c595,c842\",\n",
      "          \"AppArmorProfile\": \"\",\n",
      "          \"EffectiveCaps\": [\n",
      "               \"CAP_CHOWN\",\n",
      "               \"CAP_DAC_OVERRIDE\",\n",
      "               \"CAP_FOWNER\",\n",
      "               \"CAP_FSETID\",\n",
      "               \"CAP_KILL\",\n",
      "               \"CAP_NET_BIND_SERVICE\",\n",
      "               \"CAP_NET_RAW\",\n",
      "               \"CAP_SETFCAP\",\n",
      "               \"CAP_SETGID\",\n",
      "               \"CAP_SETPCAP\",\n",
      "               \"CAP_SETUID\",\n",
      "               \"CAP_SYS_CHROOT\"\n",
      "          ],\n",
      "          \"BoundingCaps\": [\n",
      "               \"CAP_CHOWN\",\n",
      "               \"CAP_DAC_OVERRIDE\",\n",
      "               \"CAP_FOWNER\",\n",
      "               \"CAP_FSETID\",\n",
      "               \"CAP_KILL\",\n",
      "               \"CAP_NET_BIND_SERVICE\",\n",
      "               \"CAP_NET_RAW\",\n",
      "               \"CAP_SETFCAP\",\n",
      "               \"CAP_SETGID\",\n",
      "               \"CAP_SETPCAP\",\n",
      "               \"CAP_SETUID\",\n",
      "               \"CAP_SYS_CHROOT\"\n",
      "          ],\n",
      "          \"ExecIDs\": [],\n",
      "          \"GraphDriver\": {\n",
      "               \"Name\": \"overlay\",\n",
      "               \"Data\": {\n",
      "                    \"LowerDir\": \"/student/student491/.local/share/containers/storage/overlay/be52660a4fca3b2adaab4ac0819af043be216f623d85f77873152cfc3cc5d14f/diff:/student/student491/.local/share/containers/storage/overlay/d5b92586bcaff998ddd3bfcb83d697caff822dcc624774977284abeedd443606/diff:/student/student491/.local/share/containers/storage/overlay/ae0e9acfa32914ce49abf831f450bc0846d0c30c2693fd84f0c91f7f54c7556b/diff:/student/student491/.local/share/containers/storage/overlay/e40333520543de85924671fd705348c3914caf8dff2f09b7d1d3d2c01d4383c8/diff:/student/student491/.local/share/containers/storage/overlay/ace2ad4162deb1412095633960d1795a7f9d4ad1e5ec616597423f5acbb62283/diff:/student/student491/.local/share/containers/storage/overlay/ecebf52f0fcea2c45e461c0b32ca18598ac33c40bf993145660e3b4149d067e1/diff:/student/student491/.local/share/containers/storage/overlay/cb4596cc145400fb1f2aa56d41516b39a366ecdee7bf3f9191116444aacd8c90/diff\",\n",
      "                    \"MergedDir\": \"/student/student491/.local/share/containers/storage/overlay/29e7f77c589cd91af03eb9381431f2eb23a9399047455758bd797a7effaafebc/merged\",\n",
      "                    \"UpperDir\": \"/student/student491/.local/share/containers/storage/overlay/29e7f77c589cd91af03eb9381431f2eb23a9399047455758bd797a7effaafebc/diff\",\n",
      "                    \"WorkDir\": \"/student/student491/.local/share/containers/storage/overlay/29e7f77c589cd91af03eb9381431f2eb23a9399047455758bd797a7effaafebc/work\"\n",
      "               }\n",
      "          },\n",
      "          \"Mounts\": [],\n",
      "          \"Dependencies\": [],\n",
      "          \"NetworkSettings\": {\n",
      "               \"EndpointID\": \"\",\n",
      "               \"Gateway\": \"\",\n",
      "               \"IPAddress\": \"\",\n",
      "               \"IPPrefixLen\": 0,\n",
      "               \"IPv6Gateway\": \"\",\n",
      "               \"GlobalIPv6Address\": \"\",\n",
      "               \"GlobalIPv6PrefixLen\": 0,\n",
      "               \"MacAddress\": \"\",\n",
      "               \"Bridge\": \"\",\n",
      "               \"SandboxID\": \"\",\n",
      "               \"HairpinMode\": false,\n",
      "               \"LinkLocalIPv6Address\": \"\",\n",
      "               \"LinkLocalIPv6PrefixLen\": 0,\n",
      "               \"Ports\": {\n",
      "                    \"80/tcp\": null\n",
      "               },\n",
      "               \"SandboxKey\": \"/run/user/2491/netns/netns-f4e8b3bf-dce4-7115-6812-d0c5284fd0c4\"\n",
      "          },\n",
      "          \"Namespace\": \"\",\n",
      "          \"IsInfra\": false,\n",
      "          \"IsService\": false,\n",
      "          \"Config\": {\n",
      "               \"Hostname\": \"71864687721c\",\n",
      "               \"Domainname\": \"\",\n",
      "               \"User\": \"\",\n",
      "               \"AttachStdin\": false,\n",
      "               \"AttachStdout\": false,\n",
      "               \"AttachStderr\": false,\n",
      "               \"Tty\": false,\n",
      "               \"OpenStdin\": false,\n",
      "               \"StdinOnce\": false,\n",
      "               \"Env\": [\n",
      "                    \"NJS_VERSION=0.8.2\",\n",
      "                    \"PKG_RELEASE=1~bookworm\",\n",
      "                    \"NGINX_VERSION=1.25.3\",\n",
      "                    \"PATH=/usr/local/sbin:/usr/local/bin:/usr/sbin:/usr/bin:/sbin:/bin\",\n",
      "                    \"TERM=xterm\",\n",
      "                    \"container=podman\",\n",
      "                    \"HOME=/root\",\n",
      "                    \"HOSTNAME=71864687721c\"\n",
      "               ],\n",
      "               \"Cmd\": [\n",
      "                    \"nginx\",\n",
      "                    \"-g\",\n",
      "                    \"daemon off;\"\n",
      "               ],\n",
      "               \"Image\": \"docker.io/library/nginx:latest\",\n",
      "               \"Volumes\": null,\n",
      "               \"WorkingDir\": \"/\",\n",
      "               \"Entrypoint\": \"/docker-entrypoint.sh\",\n",
      "               \"OnBuild\": null,\n",
      "               \"Labels\": {\n",
      "                    \"maintainer\": \"NGINX Docker Maintainers <docker-maint@nginx.com>\"\n",
      "               },\n",
      "               \"Annotations\": {\n",
      "                    \"io.container.manager\": \"libpod\",\n",
      "                    \"org.opencontainers.image.stopSignal\": \"3\"\n",
      "               },\n",
      "               \"StopSignal\": 3,\n",
      "               \"HealthcheckOnFailureAction\": \"none\",\n",
      "               \"CreateCommand\": [\n",
      "                    \"podman\",\n",
      "                    \"run\",\n",
      "                    \"-d\",\n",
      "                    \"--name\",\n",
      "                    \"my-podman-container\",\n",
      "                    \"nginx\"\n",
      "               ],\n",
      "               \"Umask\": \"0022\",\n",
      "               \"Timeout\": 0,\n",
      "               \"StopTimeout\": 10,\n",
      "               \"Passwd\": true,\n",
      "               \"sdNotifyMode\": \"container\"\n",
      "          },\n",
      "          \"HostConfig\": {\n",
      "               \"Binds\": [],\n",
      "               \"CgroupManager\": \"cgroupfs\",\n",
      "               \"CgroupMode\": \"host\",\n",
      "               \"ContainerIDFile\": \"\",\n",
      "               \"LogConfig\": {\n",
      "                    \"Type\": \"k8s-file\",\n",
      "                    \"Config\": null,\n",
      "                    \"Path\": \"/student/student491/.local/share/containers/storage/overlay-containers/71864687721cfca31e315c34f00dbbafca8bcf7f1dd3d207f57778006c985d5c/userdata/ctr.log\",\n",
      "                    \"Tag\": \"\",\n",
      "                    \"Size\": \"0B\"\n",
      "               },\n",
      "               \"NetworkMode\": \"slirp4netns\",\n",
      "               \"PortBindings\": {},\n",
      "               \"RestartPolicy\": {\n",
      "                    \"Name\": \"\",\n",
      "                    \"MaximumRetryCount\": 0\n",
      "               },\n",
      "               \"AutoRemove\": false,\n",
      "               \"VolumeDriver\": \"\",\n",
      "               \"VolumesFrom\": null,\n",
      "               \"CapAdd\": [],\n",
      "               \"CapDrop\": [],\n",
      "               \"Dns\": [],\n",
      "               \"DnsOptions\": [],\n",
      "               \"DnsSearch\": [],\n",
      "               \"ExtraHosts\": [],\n",
      "               \"GroupAdd\": [],\n",
      "               \"IpcMode\": \"shareable\",\n",
      "               \"Cgroup\": \"\",\n",
      "               \"Cgroups\": \"default\",\n",
      "               \"Links\": null,\n",
      "               \"OomScoreAdj\": 0,\n",
      "               \"PidMode\": \"private\",\n",
      "               \"Privileged\": false,\n",
      "               \"PublishAllPorts\": false,\n",
      "               \"ReadonlyRootfs\": false,\n",
      "               \"SecurityOpt\": [],\n",
      "               \"Tmpfs\": {},\n",
      "               \"UTSMode\": \"private\",\n",
      "               \"UsernsMode\": \"\",\n",
      "               \"ShmSize\": 65536000,\n",
      "               \"Runtime\": \"oci\",\n",
      "               \"ConsoleSize\": [\n",
      "                    0,\n",
      "                    0\n",
      "               ],\n",
      "               \"Isolation\": \"\",\n",
      "               \"CpuShares\": 0,\n",
      "               \"Memory\": 0,\n",
      "               \"NanoCpus\": 0,\n",
      "               \"CgroupParent\": \"\",\n",
      "               \"BlkioWeight\": 0,\n",
      "               \"BlkioWeightDevice\": null,\n",
      "               \"BlkioDeviceReadBps\": null,\n",
      "               \"BlkioDeviceWriteBps\": null,\n",
      "               \"BlkioDeviceReadIOps\": null,\n",
      "               \"BlkioDeviceWriteIOps\": null,\n",
      "               \"CpuPeriod\": 0,\n",
      "               \"CpuQuota\": 0,\n",
      "               \"CpuRealtimePeriod\": 0,\n",
      "               \"CpuRealtimeRuntime\": 0,\n",
      "               \"CpusetCpus\": \"\",\n",
      "               \"CpusetMems\": \"\",\n",
      "               \"Devices\": [],\n",
      "               \"DiskQuota\": 0,\n",
      "               \"KernelMemory\": 0,\n",
      "               \"MemoryReservation\": 0,\n",
      "               \"MemorySwap\": 0,\n",
      "               \"MemorySwappiness\": 0,\n",
      "               \"OomKillDisable\": false,\n",
      "               \"PidsLimit\": 0,\n",
      "               \"Ulimits\": [],\n",
      "               \"CpuCount\": 0,\n",
      "               \"CpuPercent\": 0,\n",
      "               \"IOMaximumIOps\": 0,\n",
      "               \"IOMaximumBandwidth\": 0,\n",
      "               \"CgroupConf\": null\n",
      "          }\n",
      "     }\n",
      "]\n"
     ]
    }
   ],
   "source": [
    "podman inspect my-podman-container"
   ]
  },
  {
   "cell_type": "markdown",
   "metadata": {},
   "source": [
    "If we stop it again we see that we can also remove it by running the command \"podman rm\""
   ]
  },
  {
   "cell_type": "code",
   "execution_count": 13,
   "metadata": {
    "vscode": {
     "languageId": "shellscript"
    }
   },
   "outputs": [
    {
     "name": "stdout",
     "output_type": "stream",
     "text": [
      "[ssh] host = student491@16.31.86.187, cwd = /student/student491\n",
      "my-podman-container\n",
      "my-podman-container\n"
     ]
    }
   ],
   "source": [
    "podman stop my-podman-container\n",
    "podman rm my-podman-container"
   ]
  },
  {
   "cell_type": "markdown",
   "metadata": {},
   "source": [
    "Now it has been fully removed so we wont be able to start that same container again, we will need to create a new container from the same image. You can check it is fully removed by looking at the empty output of \"podman ps -a\""
   ]
  },
  {
   "cell_type": "code",
   "execution_count": 14,
   "metadata": {
    "vscode": {
     "languageId": "shellscript"
    }
   },
   "outputs": [
    {
     "name": "stdout",
     "output_type": "stream",
     "text": [
      "[ssh] host = student491@16.31.86.187, cwd = /student/student491\n",
      "CONTAINER ID  IMAGE                           COMMAND               CREATED         STATUS                     PORTS       NAMES\n",
      "6a307bb7fd53  quay.io/podman/hello:latest     /usr/local/bin/po...  6 minutes ago   Exited (0) 6 minutes ago               sad_gould\n",
      "cbc0023b3673  docker.io/library/nginx:latest  nginx -g daemon o...  5 minutes ago   Exited (0) 24 seconds ago              blissful_cannon\n",
      "87832e67af0a  docker.io/library/nginx:latest  nginx -g daemon o...  4 minutes ago   Exited (0) 24 seconds ago              frosty_edison\n",
      "741da060fc7f  docker.io/library/nginx:latest  nginx -g daemon o...  3 minutes ago   Exited (0) 24 seconds ago              gallant_hypatia\n",
      "ca93056a7608  docker.io/library/nginx:latest  nginx -g daemon o...  34 seconds ago  Exited (0) 24 seconds ago              determined_dirac\n"
     ]
    }
   ],
   "source": [
    "podman ps -a"
   ]
  },
  {
   "cell_type": "markdown",
   "metadata": {},
   "source": [
    "A very common question is how to modify the configuration of a running container. There are several ways you can do this, one of the most common is to run the container interactively. You will need to add two options for this purpose, first one is the \"--tty\" that will allocate a pseudo-TTY for the container; the second is \"--interactive\" which will keep STDIN open even if not attached. We can combine both options just by using the \"-it\" option.\n",
    "Then you will need to specify the command you want to run in your container. If you specify \"/bin/bash\" as the command you want to run you will open an interactive terminal with your container.\n",
    "\n",
    "In our case, this environment based on jupyter notebooks doesn't work well with interactive commands. This is why instead of using \"/bin/bash\" command we will use the command \"sleep 300\" that will start our container as a process running for the next 300 seconds."
   ]
  },
  {
   "cell_type": "code",
   "execution_count": 15,
   "metadata": {
    "vscode": {
     "languageId": "shellscript"
    }
   },
   "outputs": [
    {
     "name": "stdout",
     "output_type": "stream",
     "text": [
      "[ssh] host = student491@16.31.86.187, cwd = /student/student491\n",
      "time=\"2023-10-27T04:03:44-04:00\" level=warning msg=\"The input device is not a TTY. The --tty and --interactive flags might not work properly\"\n",
      "Resolved \"fedora\" as an alias (/etc/containers/registries.conf.d/000-shortnames.conf)\n",
      "Trying to pull registry.fedoraproject.org/fedora:latest...\n",
      "Getting image source signatures\n",
      "Copying blob sha256:b30887322388a8cac2870fb8c3967da520319cb02219923e87b60ca980ccb572\n",
      "Copying config sha256:a1cd3cbf8adaa422629f2fcdc629fd9297138910a467b11c66e5ddb2c2753dff\n",
      "Writing manifest to image destination\n",
      "Storing signatures\n",
      "255f4ab360f4ffa2504a47bb5008bb28310e0a959677bcb6ec10ac9ec5486f1f\n"
     ]
    }
   ],
   "source": [
    "podman run -it -d --name my-podman-container fedora sleep 300"
   ]
  },
  {
   "cell_type": "markdown",
   "metadata": {},
   "source": [
    "If the container is already running you can just use the \"podman exec\" command and then specify the command that you want to run. Again, if you use \"/bin/bash\" you'll have access to the shell inside the container but you can just run any other command as shown in the example below."
   ]
  },
  {
   "cell_type": "code",
   "execution_count": 17,
   "metadata": {
    "vscode": {
     "languageId": "shellscript"
    }
   },
   "outputs": [
    {
     "name": "stdout",
     "output_type": "stream",
     "text": [
      "[ssh] host = student491@16.31.86.187, cwd = /student/student491\n",
      "Fedora release 38 (Thirty Eight)\n"
     ]
    }
   ],
   "source": [
    "podman exec -it my-podman-container cat /etc/fedora-release"
   ]
  },
  {
   "cell_type": "markdown",
   "metadata": {},
   "source": [
    "As you can see the output showed the version of Fedora running within the container.\n",
    "\n",
    "# Cleanup"
   ]
  },
  {
   "cell_type": "code",
   "execution_count": 21,
   "metadata": {
    "vscode": {
     "languageId": "shellscript"
    }
   },
   "outputs": [
    {
     "name": "stdout",
     "output_type": "stream",
     "text": [
      "[ssh] host = student491@16.31.86.187, cwd = /student/student491\n",
      "CONTAINER ID  IMAGE       COMMAND     CREATED     STATUS      PORTS       NAMES\n"
     ]
    }
   ],
   "source": [
    "podman stop --all\n",
    "podman rm --all\n",
    "podman rmi hello-world nginx fedora"
   ]
  },
  {
   "cell_type": "code",
   "execution_count": 22,
   "metadata": {
    "vscode": {
     "languageId": "shellscript"
    }
   },
   "outputs": [
    {
     "name": "stdout",
     "output_type": "stream",
     "text": [
      "[ssh] Closing existing connection.\n",
      "[ssh] Successfully logged out.\n"
     ]
    }
   ],
   "source": [
    "%logout"
   ]
  }
 ],
 "metadata": {
  "kernelspec": {
   "display_name": "SSH",
   "language": "bash",
   "name": "ssh"
  },
  "language_info": {
   "codemirror_mode": "shell",
   "file_extension": ".sh",
   "mimetype": "text/x-sh",
   "name": "ssh"
  }
 },
 "nbformat": 4,
 "nbformat_minor": 4
}
