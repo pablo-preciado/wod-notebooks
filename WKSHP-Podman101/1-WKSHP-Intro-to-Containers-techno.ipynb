{
 "cells": [
  {
   "cell_type": "markdown",
   "metadata": {},
   "source": [
    "![Dockerlogo](Pictures/podman-logo.png)  "
   ]
  },
  {
   "cell_type": "markdown",
   "metadata": {},
   "source": [
    "# What is Podman?\n",
    "\n",
    "As described by the Podman website itself it is:\n",
    "\n",
    "    Podman is a daemonless, open source, Linux native tool designed to make it easy to find, run, build, share and deploy applications using Open Containers Initiative (OCI) Containers and Container Images. Podman provides a command line interface (CLI) familiar to anyone who has used the Docker Container Engine. Most users can simply alias Docker to Podman (alias docker=podman) without any problems. Similar to other common Container Engines (Docker, CRI-O, containerd), Podman relies on an OCI compliant Container Runtime (runc, crun, runv, etc) to interface with the operating system and create the running containers. This makes the running containers created by Podman nearly indistinguishable from those created by any other common container engine.\n",
    "\n",
    "With simple words it's a container engine that is so similar to Docker that you can just use an alias and run docker-like commands. This brings to mind an obvious question, if it's so similar to Docker why would you use Podman instead? The answer is security.\n",
    "The previous paragraph starts describing Podman as a \"daemonless\" container engine and that's the main difference with Docker. Later in this workshop we'll explain security features in Podman, for the moment just keep in mind that as Podman doesn't have a daemon it doesn't need to use the root user for anything, therefore the execution of containers is secured by design.\n",
    "\n",
    "This is explained differently in Podman website:\n",
    "\n",
    "    Containers under the control of Podman can either be run by root or by a non-privileged user. Podman manages the entire container ecosystem which includes pods, containers, container images, and container volumes using the libpod library. Podman specializes in all of the commands and functions that help you to maintain and modify OCI container images, such as pulling and tagging. It allows you to create, run, and maintain those containers and container images in a production environment.\n",
    "\n",
    "# Why Podman?\n",
    "\n",
    "Many think of Podman to be a replacement for Docker (if they have heard of Podman at all). But, this is not the case, as Podman is another option that provides better security and developer features. Podman is a cloud-native, daemonless tool that helps developers manage their Linux containers. Podman is all about security, but also minimizing the friction between your local development environment and production.\n",
    "\n",
    "Podman uses a microservices approach, creating a network with many other cloud-native products, such as Buildah and Skopeo, to build and push containers. This makes Podman a lighter and faster application than Docker, allowing for customization and changes.\n",
    "\n",
    "# Podman basic functionality: managing container images\n",
    "\n",
    "Just like any other container engine, Podman has the ability to manage and execute container images. A container image is a static image that contains an applications with all it's dependencies. Because the dependencies are included within the container image we can expect the same application behaviour if it's executed in different hosts, solving one of the most widespread problems for developers: \"it worked in my environment\".\n",
    "\n",
    "Container images are stored in container registries, by default Podman will look for container images in quay.io, registry.redhat.io and docker.io. You can configure additional registries by modifying the file /etc/containers/registries.conf, we'll not cover this advanced configuration during this workshop.\n",
    "\n",
    "The way Podman works with container images is it locally downloads (or pulls) images from registry. Hence, first thing we want to do is checking if we have any image downloaded locally:"
   ]
  },
  {
   "cell_type": "code",
   "execution_count": 10,
   "metadata": {
    "vscode": {
     "languageId": "shellscript"
    }
   },
   "outputs": [
    {
     "name": "stdout",
     "output_type": "stream",
     "text": [
      "REPOSITORY                                                          TAG         IMAGE ID      CREATED        SIZE\n",
      "docker.io/library/nginx                                             latest      61395b4c586d  2 weeks ago    191 MB\n",
      "localhost/bcl-ov                                                    15          ef3ba4fe4c30  4 weeks ago    717 MB\n",
      "<none>                                                              <none>      2be670a5b439  4 weeks ago    803 MB\n",
      "<none>                                                              <none>      7a4c1f405114  4 weeks ago    369 MB\n",
      "quay.io/podman/hello                                                latest      e2b3db5d4fdf  5 weeks ago    82.3 kB\n",
      "quay.io/mschreie/bcl-ov                                             14          a3e1ce7d79a7  7 weeks ago    717 MB\n",
      "<none>                                                              <none>      af6827d3105f  7 weeks ago    299 MB\n",
      "quay.io/redhat_emp1/ee-ansible-ssa                                  latest      38437b6fdefe  7 weeks ago    1.7 GB\n",
      "<none>                                                              <none>      d44bc6403893  2 months ago   816 MB\n",
      "<none>                                                              <none>      698da9f60ccb  3 months ago   816 MB\n",
      "<none>                                                              <none>      005379e9a001  3 months ago   783 MB\n",
      "<none>                                                              <none>      2774d1848e63  3 months ago   821 MB\n",
      "registry.redhat.io/ansible-automation-platform-23/ee-minimal-rhel8  1.0.0-294   a45df9628f1c  5 months ago   299 MB\n",
      "quay.io/ansible/ansible-runner                                      latest      bec0dc171168  17 months ago  816 MB\n",
      "quay.io/ansible/ansible-builder                                     latest      b0348faa7f41  19 months ago  779 MB\n"
     ]
    }
   ],
   "source": [
    "!podman images"
   ]
  },
  {
   "cell_type": "markdown",
   "metadata": {},
   "source": [
    "You should get have no images locally. Download your first image, the podman hello-world image, by running the following command:"
   ]
  },
  {
   "cell_type": "code",
   "execution_count": 11,
   "metadata": {
    "vscode": {
     "languageId": "shellscript"
    }
   },
   "outputs": [
    {
     "name": "stdout",
     "output_type": "stream",
     "text": [
      "Trying to pull quay.io/podman/hello:latest...\n",
      "Getting image source signatures\n",
      "Copying blob d08b40be6878 skipped: already exists  \n",
      "\u001b[1A\u001b[JCopying blob d08b40be6878 skipped: already exists  \n",
      "Copying config e2b3db5d4f done   | \n",
      "\u001b[1A\u001b[JCopying config e2b3db5d4f done   | \n",
      "\u001b[1A\u001b[JCopying config e2b3db5d4f done   | \n",
      "Writing manifest to image destination\n",
      "e2b3db5d4fdf670b56dd7138d53b5974f2893a965f7d37486fbb9fcbf5e91d9d\n"
     ]
    }
   ],
   "source": [
    "!podman pull hello-world"
   ]
  },
  {
   "cell_type": "markdown",
   "metadata": {},
   "source": [
    "Now check if your images was pulled correctly by running again the podman images command:"
   ]
  },
  {
   "cell_type": "code",
   "execution_count": 12,
   "metadata": {
    "vscode": {
     "languageId": "shellscript"
    }
   },
   "outputs": [
    {
     "name": "stdout",
     "output_type": "stream",
     "text": [
      "REPOSITORY                                                          TAG         IMAGE ID      CREATED        SIZE\n",
      "docker.io/library/nginx                                             latest      61395b4c586d  2 weeks ago    191 MB\n",
      "localhost/bcl-ov                                                    15          ef3ba4fe4c30  4 weeks ago    717 MB\n",
      "<none>                                                              <none>      2be670a5b439  4 weeks ago    803 MB\n",
      "<none>                                                              <none>      7a4c1f405114  4 weeks ago    369 MB\n",
      "quay.io/podman/hello                                                latest      e2b3db5d4fdf  5 weeks ago    82.3 kB\n",
      "quay.io/mschreie/bcl-ov                                             14          a3e1ce7d79a7  7 weeks ago    717 MB\n",
      "<none>                                                              <none>      af6827d3105f  7 weeks ago    299 MB\n",
      "quay.io/redhat_emp1/ee-ansible-ssa                                  latest      38437b6fdefe  7 weeks ago    1.7 GB\n",
      "<none>                                                              <none>      d44bc6403893  2 months ago   816 MB\n",
      "<none>                                                              <none>      698da9f60ccb  3 months ago   816 MB\n",
      "<none>                                                              <none>      005379e9a001  3 months ago   783 MB\n",
      "<none>                                                              <none>      2774d1848e63  3 months ago   821 MB\n",
      "registry.redhat.io/ansible-automation-platform-23/ee-minimal-rhel8  1.0.0-294   a45df9628f1c  5 months ago   299 MB\n",
      "quay.io/ansible/ansible-runner                                      latest      bec0dc171168  17 months ago  816 MB\n",
      "quay.io/ansible/ansible-builder                                     latest      b0348faa7f41  19 months ago  779 MB\n"
     ]
    }
   ],
   "source": [
    "!podman images"
   ]
  },
  {
   "cell_type": "markdown",
   "metadata": {},
   "source": [
    "You should find the hello-world image is locally downloaded in your system. This only means that we have a static image that contains our application and its dependancies locally sync'ed. Next thing we would like to do is to execute that static image:"
   ]
  },
  {
   "cell_type": "code",
   "execution_count": 13,
   "metadata": {
    "vscode": {
     "languageId": "shellscript"
    }
   },
   "outputs": [
    {
     "name": "stdout",
     "output_type": "stream",
     "text": [
      "!... Hello Podman World ...!\n",
      "\n",
      "         .--\"--.           \n",
      "       / -     - \\         \n",
      "      / (O)   (O) \\        \n",
      "   ~~~| -=(,Y,)=- |         \n",
      "    .---. /`  \\   |~~      \n",
      " ~/  o  o \\~~~~.----. ~~   \n",
      "  | =(X)= |~  / (O (O) \\   \n",
      "   ~~~~~~~  ~| =(Y_)=-  |   \n",
      "  ~~~~    ~~~|   U      |~~ \n",
      "\n",
      "Project:   https://github.com/containers/podman\n",
      "Website:   https://podman.io\n",
      "Documents: https://docs.podman.io\n",
      "Twitter:   @Podman_io\n"
     ]
    }
   ],
   "source": [
    "!podman run hello-world"
   ]
  },
  {
   "cell_type": "markdown",
   "metadata": {},
   "source": [
    "# Executing containerized applications\n",
    "\n",
    "During last exercise we downloaded a container image and executed it. With the following command Podman will show the containers that are being executed right now:"
   ]
  },
  {
   "cell_type": "code",
   "execution_count": 14,
   "metadata": {
    "vscode": {
     "languageId": "shellscript"
    }
   },
   "outputs": [
    {
     "name": "stdout",
     "output_type": "stream",
     "text": [
      "CONTAINER ID  IMAGE       COMMAND     CREATED     STATUS      PORTS       NAMES\n"
     ]
    }
   ],
   "source": [
    "!podman ps"
   ]
  },
  {
   "cell_type": "markdown",
   "metadata": {},
   "source": [
    "As you can see, the output is empty. This is because the container that we executed runs a process that ends after printing in the screen the \"Hello Podman World\" message and once the main process of a container is finished the container itself will stop being executed.\n",
    "But no worries, Podman got us covered, if we want to see all the containers that are being executed and those whose execution finished some time ago we just need to add the \"-a\" to the previous command."
   ]
  },
  {
   "cell_type": "code",
   "execution_count": 15,
   "metadata": {
    "vscode": {
     "languageId": "shellscript"
    }
   },
   "outputs": [
    {
     "name": "stdout",
     "output_type": "stream",
     "text": [
      "CONTAINER ID  IMAGE                        COMMAND               CREATED         STATUS                     PORTS       NAMES\n",
      "5fd82af4a43c  quay.io/podman/hello:latest  /usr/local/bin/po...  11 seconds ago  Exited (0) 11 seconds ago              admiring_benz\n"
     ]
    }
   ],
   "source": [
    "!podman ps -a"
   ]
  },
  {
   "cell_type": "markdown",
   "metadata": {},
   "source": [
    "There you can see the container we executed before with a status of \"Exited\".\n",
    "\n",
    "Lets see what happens if we execute a container whose process don't finish unless specified:"
   ]
  },
  {
   "cell_type": "code",
   "execution_count": 16,
   "metadata": {
    "vscode": {
     "languageId": "shellscript"
    }
   },
   "outputs": [
    {
     "name": "stdout",
     "output_type": "stream",
     "text": [
      "/docker-entrypoint.sh: /docker-entrypoint.d/ is not empty, will attempt to perform configuration\n",
      "/docker-entrypoint.sh: Looking for shell scripts in /docker-entrypoint.d/\n",
      "/docker-entrypoint.sh: Launching /docker-entrypoint.d/10-listen-on-ipv6-by-default.sh\n",
      "10-listen-on-ipv6-by-default.sh: info: Getting the checksum of /etc/nginx/conf.d/default.conf\n",
      "10-listen-on-ipv6-by-default.sh: info: Enabled listen on IPv6 in /etc/nginx/conf.d/default.conf\n",
      "/docker-entrypoint.sh: Sourcing /docker-entrypoint.d/15-local-resolvers.envsh\n",
      "/docker-entrypoint.sh: Launching /docker-entrypoint.d/20-envsubst-on-templates.sh\n",
      "/docker-entrypoint.sh: Launching /docker-entrypoint.d/30-tune-worker-processes.sh\n",
      "/docker-entrypoint.sh: Configuration complete; ready for start up\n",
      "2023/10/06 08:09:00 [notice] 1#1: using the \"epoll\" event method\n",
      "2023/10/06 08:09:00 [notice] 1#1: nginx/1.25.2\n",
      "2023/10/06 08:09:00 [notice] 1#1: built by gcc 12.2.0 (Debian 12.2.0-14) \n",
      "2023/10/06 08:09:00 [notice] 1#1: OS: Linux 6.5.5-200.fc38.x86_64\n",
      "2023/10/06 08:09:00 [notice] 1#1: getrlimit(RLIMIT_NOFILE): 524288:524288\n",
      "2023/10/06 08:09:00 [notice] 1#1: start worker processes\n",
      "2023/10/06 08:09:00 [notice] 1#1: start worker process 24\n",
      "2023/10/06 08:09:00 [notice] 1#1: start worker process 25\n",
      "2023/10/06 08:09:00 [notice] 1#1: start worker process 26\n",
      "2023/10/06 08:09:00 [notice] 1#1: start worker process 27\n",
      "2023/10/06 08:09:00 [notice] 1#1: start worker process 28\n",
      "2023/10/06 08:09:00 [notice] 1#1: start worker process 29\n",
      "2023/10/06 08:09:00 [notice] 1#1: start worker process 30\n",
      "2023/10/06 08:09:00 [notice] 1#1: start worker process 31\n",
      "2023/10/06 08:09:00 [notice] 1#1: start worker process 32\n",
      "2023/10/06 08:09:00 [notice] 1#1: start worker process 33\n",
      "2023/10/06 08:09:00 [notice] 1#1: start worker process 34\n",
      "2023/10/06 08:09:00 [notice] 1#1: start worker process 35\n",
      "^C\n",
      "2023/10/06 08:36:29 [notice] 1#1: signal 2 (SIGINT) received, exiting\n",
      "2023/10/06 08:36:29 [notice] 26#26: exiting\n",
      "2023/10/06 08:36:29 [notice] 28#28: exiting\n",
      "2023/10/06 08:36:29 [notice] 27#27: exiting\n",
      "2023/10/06 08:36:29 [notice] 24#24: exiting\n",
      "2023/10/06 08:36:29 [notice] 25#25: exiting\n",
      "2023/10/06 08:36:29 [notice] 30#30: exiting\n",
      "2023/10/06 08:36:29 [notice] 29#29: exiting\n",
      "2023/10/06 08:36:29 [notice] 33#33: exiting\n",
      "2023/10/06 08:36:29 [notice] 34#34: exiting\n",
      "2023/10/06 08:36:29 [notice] 24#24: exit\n",
      "2023/10/06 08:36:29 [notice] 28#28: exit\n",
      "2023/10/06 08:36:29 [notice] 26#26: exit\n",
      "2023/10/06 08:36:29 [notice] 30#30: exit\n",
      "2023/10/06 08:36:29 [notice] 25#25: exit\n",
      "2023/10/06 08:36:29 [notice] 27#27: exit\n",
      "2023/10/06 08:36:29 [notice] 29#29: exit\n",
      "2023/10/06 08:36:29 [notice] 33#33: exit\n",
      "2023/10/06 08:36:29 [notice] 34#34: exit\n",
      "2023/10/06 08:36:29 [notice] 31#31: exiting\n",
      "2023/10/06 08:36:29 [notice] 31#31: exit\n",
      "2023/10/06 08:36:29 [notice] 32#32: exiting\n",
      "2023/10/06 08:36:29 [notice] 32#32: exit\n",
      "2023/10/06 08:36:29 [notice] 35#35: exiting\n",
      "2023/10/06 08:36:29 [notice] 35#35: exit\n",
      "2023/10/06 08:36:30 [notice] 1#1: signal 17 (SIGCHLD) received from 30\n",
      "2023/10/06 08:36:30 [notice] 1#1: worker process 26 exited with code 0\n",
      "2023/10/06 08:36:30 [notice] 1#1: worker process 30 exited with code 0\n",
      "2023/10/06 08:36:30 [notice] 1#1: signal 29 (SIGIO) received\n",
      "2023/10/06 08:36:30 [notice] 1#1: signal 17 (SIGCHLD) received from 34\n",
      "2023/10/06 08:36:30 [notice] 1#1: worker process 33 exited with code 0\n",
      "2023/10/06 08:36:30 [notice] 1#1: worker process 27 exited with code 0\n",
      "2023/10/06 08:36:30 [notice] 1#1: worker process 34 exited with code 0\n",
      "2023/10/06 08:36:30 [notice] 1#1: signal 29 (SIGIO) received\n",
      "2023/10/06 08:36:30 [notice] 1#1: signal 17 (SIGCHLD) received from 27\n",
      "2023/10/06 08:36:30 [notice] 1#1: signal 17 (SIGCHLD) received from 31\n",
      "2023/10/06 08:36:30 [notice] 1#1: worker process 31 exited with code 0\n",
      "2023/10/06 08:36:30 [notice] 1#1: signal 29 (SIGIO) received\n",
      "2023/10/06 08:36:30 [notice] 1#1: signal 17 (SIGCHLD) received from 29\n",
      "2023/10/06 08:36:30 [notice] 1#1: worker process 29 exited with code 0\n",
      "2023/10/06 08:36:30 [notice] 1#1: signal 29 (SIGIO) received\n",
      "2023/10/06 08:36:30 [notice] 1#1: signal 17 (SIGCHLD) received from 28\n",
      "2023/10/06 08:36:30 [notice] 1#1: worker process 28 exited with code 0\n",
      "2023/10/06 08:36:30 [notice] 1#1: signal 29 (SIGIO) received\n",
      "2023/10/06 08:36:30 [notice] 1#1: signal 17 (SIGCHLD) received from 24\n",
      "2023/10/06 08:36:30 [notice] 1#1: worker process 24 exited with code 0\n",
      "2023/10/06 08:36:30 [notice] 1#1: signal 17 (SIGCHLD) received from 32\n",
      "2023/10/06 08:36:30 [notice] 1#1: worker process 25 exited with code 0\n",
      "2023/10/06 08:36:30 [notice] 1#1: worker process 32 exited with code 0\n",
      "2023/10/06 08:36:30 [notice] 1#1: worker process 35 exited with code 0\n",
      "2023/10/06 08:36:30 [notice] 1#1: exit\n"
     ]
    }
   ],
   "source": [
    "!podman run nginx"
   ]
  },
  {
   "cell_type": "markdown",
   "metadata": {},
   "source": [
    "You need to stop the process manually as the container process has taken all of your terminal. If you want to run a container in the background, then you should add the option --detach (or simply -d)."
   ]
  },
  {
   "cell_type": "code",
   "execution_count": 20,
   "metadata": {
    "vscode": {
     "languageId": "shellscript"
    }
   },
   "outputs": [
    {
     "name": "stdout",
     "output_type": "stream",
     "text": [
      "329d69e838275ed59a09a8d639920bc3282205fb597d98b03201723fcebc6d26\n"
     ]
    }
   ],
   "source": [
    "!podman run --detach nginx"
   ]
  },
  {
   "cell_type": "markdown",
   "metadata": {},
   "source": [
    "Now, if you run the \"podman ps\" command you will see your nginx container with a status of \"Up\"."
   ]
  },
  {
   "cell_type": "code",
   "execution_count": 21,
   "metadata": {
    "vscode": {
     "languageId": "shellscript"
    }
   },
   "outputs": [
    {
     "name": "stdout",
     "output_type": "stream",
     "text": [
      "CONTAINER ID  IMAGE                           COMMAND               CREATED         STATUS         PORTS       NAMES\n",
      "329d69e83827  docker.io/library/nginx:latest  nginx -g daemon o...  33 seconds ago  Up 33 seconds              determined_gates\n"
     ]
    }
   ],
   "source": [
    "!podman ps"
   ]
  },
  {
   "cell_type": "markdown",
   "metadata": {},
   "source": [
    "You see the container has an ID and also a name. In this case the name was randomly generated as we did not specify any name, pay attention to next time we execute a container image as we will be giving it a name.\n",
    "\n",
    "You can stop all running containers by running the following:"
   ]
  },
  {
   "cell_type": "code",
   "execution_count": 23,
   "metadata": {
    "vscode": {
     "languageId": "shellscript"
    }
   },
   "outputs": [
    {
     "name": "stdout",
     "output_type": "stream",
     "text": [
      "357634993c693ebef18240a4b6a1a0e9f3c38f5a5385cf92ec7c77503bb0b18a\n",
      "5fd82af4a43cec98c871f7c606cfd27a8ade0c173ae54f1f5e1d48cd12e30338\n",
      "329d69e838275ed59a09a8d639920bc3282205fb597d98b03201723fcebc6d26\n"
     ]
    }
   ],
   "source": [
    "!podman stop --all"
   ]
  },
  {
   "cell_type": "markdown",
   "metadata": {},
   "source": [
    "Now that all containers have beeen stopped run again \"podman ps\" to check if all of them were correctly stopped."
   ]
  },
  {
   "cell_type": "code",
   "execution_count": 27,
   "metadata": {
    "vscode": {
     "languageId": "shellscript"
    }
   },
   "outputs": [
    {
     "name": "stdout",
     "output_type": "stream",
     "text": [
      "CONTAINER ID  IMAGE       COMMAND     CREATED     STATUS      PORTS       NAMES\n"
     ]
    }
   ],
   "source": [
    "!podman ps"
   ]
  },
  {
   "cell_type": "markdown",
   "metadata": {},
   "source": [
    "As you can see the container is not present because \"podman ps\" only shows the containers that are being executed right now. If we use the \"-a\" option it will show all containers that are in execution right now but also those that were stopped, it'll show the stopped ones with an status of \"Exited\"."
   ]
  },
  {
   "cell_type": "code",
   "execution_count": 26,
   "metadata": {
    "vscode": {
     "languageId": "shellscript"
    }
   },
   "outputs": [
    {
     "name": "stdout",
     "output_type": "stream",
     "text": [
      "CONTAINER ID  IMAGE                           COMMAND               CREATED            STATUS                         PORTS       NAMES\n",
      "5fd82af4a43c  quay.io/podman/hello:latest     /usr/local/bin/po...  About an hour ago  Exited (0) About an hour ago               admiring_benz\n",
      "357634993c69  docker.io/library/nginx:latest  nginx -g daemon o...  About an hour ago  Exited (0) 44 minutes ago                  bold_lichterman\n",
      "329d69e83827  docker.io/library/nginx:latest  nginx -g daemon o...  41 minutes ago     Exited (0) About a minute ago              determined_gates\n"
     ]
    }
   ],
   "source": [
    "!podman ps -a"
   ]
  },
  {
   "cell_type": "markdown",
   "metadata": {},
   "source": [
    "This means that containers are not deleted once the process is finished and you could simply restart any of them. We can do this by using the container ID, but for the shake of simplicity we will be creating a new container with a defined name:"
   ]
  },
  {
   "cell_type": "code",
   "execution_count": 40,
   "metadata": {
    "vscode": {
     "languageId": "shellscript"
    }
   },
   "outputs": [
    {
     "name": "stdout",
     "output_type": "stream",
     "text": [
      "2cbb3e8ff09a77b48ab0278144b6c52f7a23c08120e79629b3d180db36101271\n",
      "CONTAINER ID  IMAGE                           COMMAND               CREATED                 STATUS                 PORTS       NAMES\n",
      "2cbb3e8ff09a  docker.io/library/nginx:latest  nginx -g daemon o...  Less than a second ago  Up Less than a second              my-podman-container\n"
     ]
    }
   ],
   "source": [
    "!podman run -d --name my-podman-container nginx\n",
    "!podman ps"
   ]
  },
  {
   "cell_type": "markdown",
   "metadata": {},
   "source": [
    "See how we changed the long \"--detach\" option for a smaller \"-d\" but it works the same way. We also defined the name. So now we can just stop it by it's name."
   ]
  },
  {
   "cell_type": "code",
   "execution_count": 34,
   "metadata": {
    "vscode": {
     "languageId": "shellscript"
    }
   },
   "outputs": [
    {
     "name": "stdout",
     "output_type": "stream",
     "text": [
      "my-podman-container\n",
      "CONTAINER ID  IMAGE       COMMAND     CREATED     STATUS      PORTS       NAMES\n",
      "CONTAINER ID  IMAGE                           COMMAND               CREATED             STATUS                     PORTS       NAMES\n",
      "d9372a2648eb  docker.io/library/nginx:latest  nginx -g daemon o...  About a minute ago  Exited (0) 15 seconds ago              my-podman-container\n"
     ]
    }
   ],
   "source": [
    "!podman stop my-podman-container\n",
    "!podman ps -a"
   ]
  },
  {
   "cell_type": "markdown",
   "metadata": {},
   "source": [
    "Now that it is stopped, we can restart it."
   ]
  },
  {
   "cell_type": "code",
   "execution_count": 39,
   "metadata": {
    "vscode": {
     "languageId": "shellscript"
    }
   },
   "outputs": [
    {
     "name": "stdout",
     "output_type": "stream",
     "text": [
      "Error: no container with name or ID \"my-podman-container\" found: no such container\n"
     ]
    },
    {
     "name": "stdout",
     "output_type": "stream",
     "text": [
      "CONTAINER ID  IMAGE       COMMAND     CREATED     STATUS      PORTS       NAMES\n"
     ]
    }
   ],
   "source": [
    "!podman start my-podman-container\n",
    "!podman ps"
   ]
  },
  {
   "cell_type": "markdown",
   "metadata": {},
   "source": [
    "While the container is running you can also inspect it to get to know all the information about it."
   ]
  },
  {
   "cell_type": "code",
   "execution_count": 42,
   "metadata": {
    "vscode": {
     "languageId": "shellscript"
    }
   },
   "outputs": [
    {
     "name": "stdout",
     "output_type": "stream",
     "text": [
      "[\n",
      "     {\n",
      "          \"Id\": \"2cbb3e8ff09a77b48ab0278144b6c52f7a23c08120e79629b3d180db36101271\",\n",
      "          \"Created\": \"2023-10-06T12:04:57.156652259+02:00\",\n",
      "          \"Path\": \"/docker-entrypoint.sh\",\n",
      "          \"Args\": [\n",
      "               \"nginx\",\n",
      "               \"-g\",\n",
      "               \"daemon off;\"\n",
      "          ],\n",
      "          \"State\": {\n",
      "               \"OciVersion\": \"1.1.0+dev\",\n",
      "               \"Status\": \"running\",\n",
      "               \"Running\": true,\n",
      "               \"Paused\": false,\n",
      "               \"Restarting\": false,\n",
      "               \"OOMKilled\": false,\n",
      "               \"Dead\": false,\n",
      "               \"Pid\": 45203,\n",
      "               \"ConmonPid\": 45201,\n",
      "               \"ExitCode\": 0,\n",
      "               \"Error\": \"\",\n",
      "               \"StartedAt\": \"2023-10-06T12:04:57.291749039+02:00\",\n",
      "               \"FinishedAt\": \"0001-01-01T00:00:00Z\",\n",
      "               \"Health\": {\n",
      "                    \"Status\": \"\",\n",
      "                    \"FailingStreak\": 0,\n",
      "                    \"Log\": null\n",
      "               },\n",
      "               \"CgroupPath\": \"/user.slice/user-1000.slice/user@1000.service/user.slice/libpod-2cbb3e8ff09a77b48ab0278144b6c52f7a23c08120e79629b3d180db36101271.scope\",\n",
      "               \"CheckpointedAt\": \"0001-01-01T00:00:00Z\",\n",
      "               \"RestoredAt\": \"0001-01-01T00:00:00Z\"\n",
      "          },\n",
      "          \"Image\": \"61395b4c586da2b9b3b7ca903ea6a448e6783dfdd7f768ff2c1a0f3360aaba99\",\n",
      "          \"ImageDigest\": \"sha256:32da30332506740a2f7c34d5dc70467b7f14ec67d912703568daff790ab3f755\",\n",
      "          \"ImageName\": \"docker.io/library/nginx:latest\",\n",
      "          \"Rootfs\": \"\",\n",
      "          \"Pod\": \"\",\n",
      "          \"ResolvConfPath\": \"/run/user/1000/containers/overlay-containers/2cbb3e8ff09a77b48ab0278144b6c52f7a23c08120e79629b3d180db36101271/userdata/resolv.conf\",\n",
      "          \"HostnamePath\": \"/run/user/1000/containers/overlay-containers/2cbb3e8ff09a77b48ab0278144b6c52f7a23c08120e79629b3d180db36101271/userdata/hostname\",\n",
      "          \"HostsPath\": \"/run/user/1000/containers/overlay-containers/2cbb3e8ff09a77b48ab0278144b6c52f7a23c08120e79629b3d180db36101271/userdata/hosts\",\n",
      "          \"StaticDir\": \"/home/ppreciad/.local/share/containers/storage/overlay-containers/2cbb3e8ff09a77b48ab0278144b6c52f7a23c08120e79629b3d180db36101271/userdata\",\n",
      "          \"OCIConfigPath\": \"/home/ppreciad/.local/share/containers/storage/overlay-containers/2cbb3e8ff09a77b48ab0278144b6c52f7a23c08120e79629b3d180db36101271/userdata/config.json\",\n",
      "          \"OCIRuntime\": \"crun\",\n",
      "          \"ConmonPidFile\": \"/run/user/1000/containers/overlay-containers/2cbb3e8ff09a77b48ab0278144b6c52f7a23c08120e79629b3d180db36101271/userdata/conmon.pid\",\n",
      "          \"PidFile\": \"/run/user/1000/containers/overlay-containers/2cbb3e8ff09a77b48ab0278144b6c52f7a23c08120e79629b3d180db36101271/userdata/pidfile\",\n",
      "          \"Name\": \"my-podman-container\",\n",
      "          \"RestartCount\": 0,\n",
      "          \"Driver\": \"overlay\",\n",
      "          \"MountLabel\": \"system_u:object_r:container_file_t:s0:c237,c474\",\n",
      "          \"ProcessLabel\": \"system_u:system_r:container_t:s0:c237,c474\",\n",
      "          \"AppArmorProfile\": \"\",\n",
      "          \"EffectiveCaps\": [\n",
      "               \"CAP_CHOWN\",\n",
      "               \"CAP_DAC_OVERRIDE\",\n",
      "               \"CAP_FOWNER\",\n",
      "               \"CAP_FSETID\",\n",
      "               \"CAP_KILL\",\n",
      "               \"CAP_NET_BIND_SERVICE\",\n",
      "               \"CAP_SETFCAP\",\n",
      "               \"CAP_SETGID\",\n",
      "               \"CAP_SETPCAP\",\n",
      "               \"CAP_SETUID\",\n",
      "               \"CAP_SYS_CHROOT\"\n",
      "          ],\n",
      "          \"BoundingCaps\": [\n",
      "               \"CAP_CHOWN\",\n",
      "               \"CAP_DAC_OVERRIDE\",\n",
      "               \"CAP_FOWNER\",\n",
      "               \"CAP_FSETID\",\n",
      "               \"CAP_KILL\",\n",
      "               \"CAP_NET_BIND_SERVICE\",\n",
      "               \"CAP_SETFCAP\",\n",
      "               \"CAP_SETGID\",\n",
      "               \"CAP_SETPCAP\",\n",
      "               \"CAP_SETUID\",\n",
      "               \"CAP_SYS_CHROOT\"\n",
      "          ],\n",
      "          \"ExecIDs\": [],\n",
      "          \"GraphDriver\": {\n",
      "               \"Name\": \"overlay\",\n",
      "               \"Data\": {\n",
      "                    \"LowerDir\": \"/home/ppreciad/.local/share/containers/storage/overlay/9561bbbaf0b8f16c8d764923883b1fd4e2c4e7d694a508ed2f82302ff962feab/diff:/home/ppreciad/.local/share/containers/storage/overlay/c759fad6fa66d935ea6fea573019e00eaf50f1dcec889619c8d6b2770a5395bb/diff:/home/ppreciad/.local/share/containers/storage/overlay/10f8df6073f2d4b9f003d395011fc8d1b48fe6ba2606cb84c27812af72bf1631/diff:/home/ppreciad/.local/share/containers/storage/overlay/74c22aeb249ce78706bce00471cbac84939826906e798cca824f8f8df9a9d6ce/diff:/home/ppreciad/.local/share/containers/storage/overlay/01e844ce612e9013553e2c8505ccadfe903fa59beb31a17d414d482a7905596a/diff:/home/ppreciad/.local/share/containers/storage/overlay/f366b31d98d3da5ada394b5d1de6ed9818df66317163e7227cd9f87a4fca7d28/diff:/home/ppreciad/.local/share/containers/storage/overlay/d310e774110ab038b30c6a5f7b7f7dd527dbe527854496bd30194b9ee6ea496e/diff\",\n",
      "                    \"MergedDir\": \"/home/ppreciad/.local/share/containers/storage/overlay/6b41beb59debe5d4d39ffe28c4afc86e9033460cb9bf432671bbdeec6b68c5df/merged\",\n",
      "                    \"UpperDir\": \"/home/ppreciad/.local/share/containers/storage/overlay/6b41beb59debe5d4d39ffe28c4afc86e9033460cb9bf432671bbdeec6b68c5df/diff\",\n",
      "                    \"WorkDir\": \"/home/ppreciad/.local/share/containers/storage/overlay/6b41beb59debe5d4d39ffe28c4afc86e9033460cb9bf432671bbdeec6b68c5df/work\"\n",
      "               }\n",
      "          },\n",
      "          \"Mounts\": [],\n",
      "          \"Dependencies\": [],\n",
      "          \"NetworkSettings\": {\n",
      "               \"EndpointID\": \"\",\n",
      "               \"Gateway\": \"\",\n",
      "               \"IPAddress\": \"\",\n",
      "               \"IPPrefixLen\": 0,\n",
      "               \"IPv6Gateway\": \"\",\n",
      "               \"GlobalIPv6Address\": \"\",\n",
      "               \"GlobalIPv6PrefixLen\": 0,\n",
      "               \"MacAddress\": \"\",\n",
      "               \"Bridge\": \"\",\n",
      "               \"SandboxID\": \"\",\n",
      "               \"HairpinMode\": false,\n",
      "               \"LinkLocalIPv6Address\": \"\",\n",
      "               \"LinkLocalIPv6PrefixLen\": 0,\n",
      "               \"Ports\": {\n",
      "                    \"80/tcp\": null\n",
      "               },\n",
      "               \"SandboxKey\": \"/run/user/1000/netns/netns-f8145633-b49d-9a5a-2229-3d0c1d76551b\"\n",
      "          },\n",
      "          \"Namespace\": \"\",\n",
      "          \"IsInfra\": false,\n",
      "          \"IsService\": false,\n",
      "          \"KubeExitCodePropagation\": \"invalid\",\n",
      "          \"lockNumber\": 0,\n",
      "          \"Config\": {\n",
      "               \"Hostname\": \"2cbb3e8ff09a\",\n",
      "               \"Domainname\": \"\",\n",
      "               \"User\": \"\",\n",
      "               \"AttachStdin\": false,\n",
      "               \"AttachStdout\": false,\n",
      "               \"AttachStderr\": false,\n",
      "               \"Tty\": false,\n",
      "               \"OpenStdin\": false,\n",
      "               \"StdinOnce\": false,\n",
      "               \"Env\": [\n",
      "                    \"PATH=/usr/local/sbin:/usr/local/bin:/usr/sbin:/usr/bin:/sbin:/bin\",\n",
      "                    \"container=podman\",\n",
      "                    \"NGINX_VERSION=1.25.2\",\n",
      "                    \"NJS_VERSION=0.8.0\",\n",
      "                    \"PKG_RELEASE=1~bookworm\",\n",
      "                    \"HOME=/root\",\n",
      "                    \"HOSTNAME=2cbb3e8ff09a\"\n",
      "               ],\n",
      "               \"Cmd\": [\n",
      "                    \"nginx\",\n",
      "                    \"-g\",\n",
      "                    \"daemon off;\"\n",
      "               ],\n",
      "               \"Image\": \"docker.io/library/nginx:latest\",\n",
      "               \"Volumes\": null,\n",
      "               \"WorkingDir\": \"/\",\n",
      "               \"Entrypoint\": \"/docker-entrypoint.sh\",\n",
      "               \"OnBuild\": null,\n",
      "               \"Labels\": {\n",
      "                    \"maintainer\": \"NGINX Docker Maintainers <docker-maint@nginx.com>\"\n",
      "               },\n",
      "               \"Annotations\": {\n",
      "                    \"io.container.manager\": \"libpod\",\n",
      "                    \"org.opencontainers.image.stopSignal\": \"3\"\n",
      "               },\n",
      "               \"StopSignal\": 3,\n",
      "               \"HealthcheckOnFailureAction\": \"none\",\n",
      "               \"CreateCommand\": [\n",
      "                    \"podman\",\n",
      "                    \"run\",\n",
      "                    \"-d\",\n",
      "                    \"--name\",\n",
      "                    \"my-podman-container\",\n",
      "                    \"nginx\"\n",
      "               ],\n",
      "               \"Umask\": \"0022\",\n",
      "               \"Timeout\": 0,\n",
      "               \"StopTimeout\": 10,\n",
      "               \"Passwd\": true,\n",
      "               \"sdNotifyMode\": \"container\"\n",
      "          },\n",
      "          \"HostConfig\": {\n",
      "               \"Binds\": [],\n",
      "               \"CgroupManager\": \"systemd\",\n",
      "               \"CgroupMode\": \"private\",\n",
      "               \"ContainerIDFile\": \"\",\n",
      "               \"LogConfig\": {\n",
      "                    \"Type\": \"journald\",\n",
      "                    \"Config\": null,\n",
      "                    \"Path\": \"\",\n",
      "                    \"Tag\": \"\",\n",
      "                    \"Size\": \"0B\"\n",
      "               },\n",
      "               \"NetworkMode\": \"slirp4netns\",\n",
      "               \"PortBindings\": {},\n",
      "               \"RestartPolicy\": {\n",
      "                    \"Name\": \"\",\n",
      "                    \"MaximumRetryCount\": 0\n",
      "               },\n",
      "               \"AutoRemove\": false,\n",
      "               \"VolumeDriver\": \"\",\n",
      "               \"VolumesFrom\": null,\n",
      "               \"CapAdd\": [],\n",
      "               \"CapDrop\": [],\n",
      "               \"Dns\": [],\n",
      "               \"DnsOptions\": [],\n",
      "               \"DnsSearch\": [],\n",
      "               \"ExtraHosts\": [],\n",
      "               \"GroupAdd\": [],\n",
      "               \"IpcMode\": \"shareable\",\n",
      "               \"Cgroup\": \"\",\n",
      "               \"Cgroups\": \"default\",\n",
      "               \"Links\": null,\n",
      "               \"OomScoreAdj\": 0,\n",
      "               \"PidMode\": \"private\",\n",
      "               \"Privileged\": false,\n",
      "               \"PublishAllPorts\": false,\n",
      "               \"ReadonlyRootfs\": false,\n",
      "               \"SecurityOpt\": [],\n",
      "               \"Tmpfs\": {},\n",
      "               \"UTSMode\": \"private\",\n",
      "               \"UsernsMode\": \"\",\n",
      "               \"ShmSize\": 65536000,\n",
      "               \"Runtime\": \"oci\",\n",
      "               \"ConsoleSize\": [\n",
      "                    0,\n",
      "                    0\n",
      "               ],\n",
      "               \"Isolation\": \"\",\n",
      "               \"CpuShares\": 0,\n",
      "               \"Memory\": 0,\n",
      "               \"NanoCpus\": 0,\n",
      "               \"CgroupParent\": \"user.slice\",\n",
      "               \"BlkioWeight\": 0,\n",
      "               \"BlkioWeightDevice\": null,\n",
      "               \"BlkioDeviceReadBps\": null,\n",
      "               \"BlkioDeviceWriteBps\": null,\n",
      "               \"BlkioDeviceReadIOps\": null,\n",
      "               \"BlkioDeviceWriteIOps\": null,\n",
      "               \"CpuPeriod\": 0,\n",
      "               \"CpuQuota\": 0,\n",
      "               \"CpuRealtimePeriod\": 0,\n",
      "               \"CpuRealtimeRuntime\": 0,\n",
      "               \"CpusetCpus\": \"\",\n",
      "               \"CpusetMems\": \"\",\n",
      "               \"Devices\": [],\n",
      "               \"DiskQuota\": 0,\n",
      "               \"KernelMemory\": 0,\n",
      "               \"MemoryReservation\": 0,\n",
      "               \"MemorySwap\": 0,\n",
      "               \"MemorySwappiness\": 0,\n",
      "               \"OomKillDisable\": false,\n",
      "               \"PidsLimit\": 2048,\n",
      "               \"Ulimits\": [\n",
      "                    {\n",
      "                         \"Name\": \"RLIMIT_NOFILE\",\n",
      "                         \"Soft\": 524288,\n",
      "                         \"Hard\": 524288\n",
      "                    },\n",
      "                    {\n",
      "                         \"Name\": \"RLIMIT_NPROC\",\n",
      "                         \"Soft\": 127168,\n",
      "                         \"Hard\": 127168\n",
      "                    }\n",
      "               ],\n",
      "               \"CpuCount\": 0,\n",
      "               \"CpuPercent\": 0,\n",
      "               \"IOMaximumIOps\": 0,\n",
      "               \"IOMaximumBandwidth\": 0,\n",
      "               \"CgroupConf\": null\n",
      "          }\n",
      "     }\n",
      "]\n"
     ]
    }
   ],
   "source": [
    "!podman inspect my-podman-container"
   ]
  },
  {
   "cell_type": "markdown",
   "metadata": {},
   "source": [
    "If we stop it again we see that we can also remove it by running the command \"podman rm\""
   ]
  },
  {
   "cell_type": "code",
   "execution_count": 37,
   "metadata": {
    "vscode": {
     "languageId": "shellscript"
    }
   },
   "outputs": [
    {
     "name": "stdout",
     "output_type": "stream",
     "text": [
      "my-podman-container\n",
      "my-podman-container\n"
     ]
    }
   ],
   "source": [
    "!podman stop my-podman-container\n",
    "!podman rm my-podman-container"
   ]
  },
  {
   "cell_type": "markdown",
   "metadata": {},
   "source": [
    "Now it has been fully removed so we wont be able to start that same container again, we will need to create a new container from the same image. You can check it is fully removed by looking at the empty output of \"podman ps -a\""
   ]
  },
  {
   "cell_type": "code",
   "execution_count": 38,
   "metadata": {
    "vscode": {
     "languageId": "shellscript"
    }
   },
   "outputs": [
    {
     "name": "stdout",
     "output_type": "stream",
     "text": [
      "CONTAINER ID  IMAGE       COMMAND     CREATED     STATUS      PORTS       NAMES\n"
     ]
    }
   ],
   "source": [
    "!podman ps -a"
   ]
  }
 ],
 "metadata": {
  "kernelspec": {
   "display_name": "Python 3 (ipykernel)",
   "language": "python",
   "name": "python3"
  },
  "language_info": {
   "codemirror_mode": {
    "name": "ipython",
    "version": 3
   },
   "file_extension": ".py",
   "mimetype": "text/x-python",
   "name": "python",
   "nbconvert_exporter": "python",
   "pygments_lexer": "ipython3",
   "version": "3.11.5"
  }
 },
 "nbformat": 4,
 "nbformat_minor": 4
}
