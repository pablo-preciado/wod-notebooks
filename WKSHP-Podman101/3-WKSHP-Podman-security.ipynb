{
 "cells": [
  {
   "cell_type": "markdown",
   "metadata": {},
   "source": [
    "![Podmanlogo](Pictures/podman-logo.png)"
   ]
  },
  {
   "cell_type": "markdown",
   "metadata": {},
   "source": [
    "# Security with Podman rootless containers\n",
    "\n",
    "Podman is a container engine designed to work with rootless containers, meaning that there is no need of using sudo to run your containers. If you have used other container engines you may have seen the need of running your container engine using sudo or adding your non-root user to a group with priviledges. This is, of course, a concern for the security of your environment.\n",
    "\n",
    "Running a container engine with the root user exposes two important methods of attacking your system:\n",
    "\n",
    " - If your container engine has a vulnerability your entire system will be compromised as the process of your container engine would be owned by the root user.\n",
    " - Given a container image that contains a vulnerability an attacker could gain access to your vulnerable image and, as your container image is being executed by the root user, the attacker could gain access to the whole system from it.\n",
    "\n",
    "Podman has a simple solution for this: don't run everything as root. By default Podman does not use the root user, but it can be used for those edge use cases in which it's needed. This is what is called a zero-trust approach, meaning that Podman wont be using the root user unless it's specified.\n",
    "\n",
    "Running containers with non-root users also gives you the hability of isolate group of containers being run by different users in the same system. Lets say you have Application A composed of three containers (frontend, backend and database) and Application B composed of two containers (frontend and backend), the applications do not interact between themselves, so you would like to isolate them. In this scenario you can just create two users (application-a-user and application-b-user) and instanciate each application with its own user. Once you do that, if for example Application B is attacked via a vulnerability, only the containers and processes run by the application-user-b user would be exposed.\n",
    "\n",
    "Of course, there are some scenarios in which running rootless containers could limit functionality. Lets review the most common caveats of rootless containers:\n",
    "\n",
    " - Exposing your container in ports below 1024 cannot be binded out of the box. There are workarounds for this.\n",
    " - Sharing images between users needs to be done via [this process](https://www.redhat.com/sysadmin/podman-transfer-container-images-without-registry?ref=linuxhandbook.com)\n",
    "\n",
    "## Rootless containers with podman\n",
    "\n",
    "First thing we need to understand is that in a linux system each user will have a list of subuid and subgid's that can be used for running processes. These can be found in the files /etc/subuid and /etc/subgid."
   ]
  },
  {
   "cell_type": "code",
   "execution_count": 13,
   "metadata": {
    "vscode": {
     "languageId": "shellscript"
    }
   },
   "outputs": [
    {
     "name": "stdout",
     "output_type": "stream",
     "text": [
      "ppreciad:100000:65536\n"
     ]
    }
   ],
   "source": [
    "!cat /etc/subuid"
   ]
  },
  {
   "cell_type": "code",
   "execution_count": 14,
   "metadata": {
    "vscode": {
     "languageId": "shellscript"
    }
   },
   "outputs": [
    {
     "name": "stdout",
     "output_type": "stream",
     "text": [
      "ppreciad:100000:65536\n"
     ]
    }
   ],
   "source": [
    "!cat /etc/subgid"
   ]
  },
  {
   "cell_type": "markdown",
   "metadata": {},
   "source": [
    "In the output of those two files you see the range of the subuid and subgid that can be used for executing processes by your user. This values can be modified with the usermod command, but we will not be covering it in this workshop.\n",
    "\n",
    "Lets show rootless containers working, first we will execute a new container:"
   ]
  },
  {
   "cell_type": "code",
   "execution_count": 15,
   "metadata": {
    "vscode": {
     "languageId": "shellscript"
    }
   },
   "outputs": [
    {
     "name": "stdout",
     "output_type": "stream",
     "text": [
      "c7b48293382afc0201b606835b91f15e5f4623d300395799edc65dcc550df943\n"
     ]
    }
   ],
   "source": [
    "!podman run -d --rm --name=rootless-container docker.io/redhat/ubi9 sleep 999"
   ]
  },
  {
   "cell_type": "markdown",
   "metadata": {},
   "source": [
    "Check that your container is running"
   ]
  },
  {
   "cell_type": "code",
   "execution_count": 16,
   "metadata": {
    "vscode": {
     "languageId": "shellscript"
    }
   },
   "outputs": [
    {
     "name": "stdout",
     "output_type": "stream",
     "text": [
      "CONTAINER ID  IMAGE                         COMMAND     CREATED        STATUS        PORTS       NAMES\n",
      "c7b48293382a  docker.io/redhat/ubi9:latest  sleep 999   4 seconds ago  Up 5 seconds              rootless-container\n"
     ]
    }
   ],
   "source": [
    "!podman ps"
   ]
  },
  {
   "cell_type": "markdown",
   "metadata": {},
   "source": [
    "Now use the \"ps aux\" command to see the uid of the user that executed our container."
   ]
  },
  {
   "cell_type": "code",
   "execution_count": 17,
   "metadata": {
    "vscode": {
     "languageId": "shellscript"
    }
   },
   "outputs": [
    {
     "name": "stdout",
     "output_type": "stream",
     "text": [
      "USER         PID %CPU %MEM    VSZ   RSS TTY      STAT START   TIME COMMAND\n",
      "ppreciad   69697  0.0  0.0 225852  1928 ?        Ss   18:11   0:00 /usr/bin/conmon --api-version 1 -c c7b48293382afc0201b606835b91f15e5f4623d300395799edc65dcc550df943 -u c7b48293382afc0201b606835b91f15e5f4623d300395799edc65dcc550df943 -r /usr/bin/crun -b /home/ppreciad/.local/share/containers/storage/overlay-containers/c7b48293382afc0201b606835b91f15e5f4623d300395799edc65dcc550df943/userdata -p /run/user/1000/containers/overlay-containers/c7b48293382afc0201b606835b91f15e5f4623d300395799edc65dcc550df943/userdata/pidfile -n rootless-container --exit-dir /run/user/1000/libpod/tmp/exits --full-attach -s -l journald --log-level warning --syslog --runtime-arg --log-format=json --runtime-arg --log --runtime-arg=/run/user/1000/containers/overlay-containers/c7b48293382afc0201b606835b91f15e5f4623d300395799edc65dcc550df943/userdata/oci-log --conmon-pidfile /run/user/1000/containers/overlay-containers/c7b48293382afc0201b606835b91f15e5f4623d300395799edc65dcc550df943/userdata/conmon.pid --exit-command /usr/bin/podman --exit-command-arg --root --exit-command-arg /home/ppreciad/.local/share/containers/storage --exit-command-arg --runroot --exit-command-arg /run/user/1000/containers --exit-command-arg --log-level --exit-command-arg warning --exit-command-arg --cgroup-manager --exit-command-arg systemd --exit-command-arg --tmpdir --exit-command-arg /run/user/1000/libpod/tmp --exit-command-arg --network-config-dir --exit-command-arg  --exit-command-arg --network-backend --exit-command-arg netavark --exit-command-arg --volumepath --exit-command-arg /home/ppreciad/.local/share/containers/storage/volumes --exit-command-arg --db-backend --exit-command-arg boltdb --exit-command-arg --transient-store=false --exit-command-arg --runtime --exit-command-arg crun --exit-command-arg --storage-driver --exit-command-arg overlay --exit-command-arg --events-backend --exit-command-arg journald --exit-command-arg container --exit-command-arg cleanup --exit-command-arg --rm --exit-command-arg c7b48293382afc0201b606835b91f15e5f4623d300395799edc65dcc550df943\n",
      "ppreciad   69736  0.0  0.0 223208  3456 pts/3    Ss+  18:11   0:00 /bin/bash -c ps aux | grep rootless\n",
      "ppreciad   69738  0.0  0.0 222408  2304 pts/3    S+   18:11   0:00 grep rootless\n"
     ]
    }
   ],
   "source": [
    "!echo \"USER         PID %CPU %MEM    VSZ   RSS TTY      STAT START   TIME COMMAND\"\n",
    "!ps aux | grep rootless\n"
   ]
  },
  {
   "cell_type": "markdown",
   "metadata": {},
   "source": [
    "As you can see the output shows the container process using a non priviledged UID.\n",
    "\n",
    "Last point I would like to highlight regarding security is that we never used sudo for running podman. In general we have not used root user in any moment of this workshop, following a zero-trust security approach.\n",
    "\n",
    "# Cleanup"
   ]
  },
  {
   "cell_type": "code",
   "execution_count": 18,
   "metadata": {
    "vscode": {
     "languageId": "shellscript"
    }
   },
   "outputs": [
    {
     "name": "stdout",
     "output_type": "stream",
     "text": [
      "\u001b[33mWARN\u001b[0m[0010] StopSignal SIGTERM failed to stop container rootless-container in 10 seconds, resorting to SIGKILL \n",
      "\u001b[33mWARN\u001b[0m[0010] StopSignal SIGTERM failed to stop container kubepodman in 10 seconds, resorting to SIGKILL \n",
      "c7b48293382afc0201b606835b91f15e5f4623d300395799edc65dcc550df943\n",
      "d696dccd5291f64879789353dfb858d9511c6ecf133215148f9bf04a767cfa41\n",
      "Untagged: docker.io/redhat/ubi9:latest\n"
     ]
    }
   ],
   "source": [
    "!podman stop --all\n",
    "!podman rm --all\n",
    "!podman rmi docker.io/redhat/ubi9"
   ]
  }
 ],
 "metadata": {
  "kernelspec": {
   "display_name": "Python 3",
   "language": "python",
   "name": "python3"
  },
  "language_info": {
   "codemirror_mode": {
    "name": "ipython",
    "version": 3
   },
   "file_extension": ".py",
   "mimetype": "text/x-python",
   "name": "python",
   "nbconvert_exporter": "python",
   "pygments_lexer": "ipython3",
   "version": "3.11.6"
  }
 },
 "nbformat": 4,
 "nbformat_minor": 2
}
