{
 "cells": [
  {
   "cell_type": "markdown",
   "metadata": {},
   "source": [
    "![Podmanlogo](Pictures/podman-logo.png)"
   ]
  },
  {
   "cell_type": "markdown",
   "metadata": {},
   "source": [
    "# Managing container images\n",
    "\n",
    "In the previous section of this workshop we've seen how to run container images pulled from different registries but, what if I want to create a container image for my own application? No worries, podman has your back.\n",
    "\n",
    "Podman can be used for building your own container images and push them to a container registry. In order to do it you need to first build a file called \"Containerfile\" and then used the \"podman build\" command to create your image out of the content of the Containerfile.\n",
    "\n",
    "Lets see an example.\n",
    "\n",
    "## Creating a new container image\n",
    "\n",
    "Lets begin by creating a new Container file with the definition of our container image:"
   ]
  },
  {
   "cell_type": "code",
   "execution_count": 1,
   "metadata": {},
   "outputs": [
    {
     "name": "stdout",
     "output_type": "stream",
     "text": [
      "[ssh] Login to student491@16.31.86.187...\n",
      "[ssh] host=student491@16.31.86.187 hostname=16.31.86.187 other_conf={'user': 'student491', 'port': None, 'keyfile': None, 'load_system_ssh_config': False, 'missing_host_policy': <paramiko.client.WarningPolicy object at 0x7f2fb8745cd0>}\n",
      "[ssh] Successfully logged in.\n"
     ]
    }
   ],
   "source": [
    "%login student491@16.31.86.187"
   ]
  },
  {
   "cell_type": "code",
   "execution_count": 2,
   "metadata": {
    "vscode": {
     "languageId": "shellscript"
    }
   },
   "outputs": [
    {
     "name": "stdout",
     "output_type": "stream",
     "text": [
      "[ssh] host = student491@16.31.86.187, cwd = /student/student491\n",
      "FROM docker.io/redhat/ubi9\n",
      "RUN dnf -y update  && dnf -y install httpd  && dnf clean all\n",
      "COPY index.html /var/www/html/index.html\n",
      "EXPOSE 80\n",
      "ENTRYPOINT /usr/sbin/httpd -DFOREGROUND\n"
     ]
    }
   ],
   "source": [
    "cat > Containerfile << EOF\n",
    "FROM docker.io/redhat/ubi9\n",
    "RUN dnf -y update \\\n",
    " && dnf -y install httpd \\\n",
    " && dnf clean all\n",
    "COPY index.html /var/www/html/index.html\n",
    "EXPOSE 80\n",
    "ENTRYPOINT /usr/sbin/httpd -DFOREGROUND\n",
    "EOF\n",
    "cat Containerfile"
   ]
  },
  {
   "cell_type": "markdown",
   "metadata": {},
   "source": [
    "The output of the command is the content of our newly created Containerfile. Let's review it line by line.\n",
    "\n",
    "First we have specified the \"FROM\" option, this line is mandatory, you need it to build your container image. With this line we specify the base container image that we will use for our application, in our example we've chosen a redhat/ubi9 image as base for our application. Choosing an image that you can trust is critical to maintain a secure environment, if your base image has vulnerabilities it may affect your application and potentially your whole enviroment. This is why we have chosen a Red Hat Universal Base Image (UBI) image for Red Hat Enterprise Linux 9 (RHEL9).\n",
    "\n",
    "Red Hat creates UBI images that are analyzed often and gives you information about the vulnerabilities that it may have and how to solve them. There are many options for your UBI images, from the standard RHEL 8 or RHEL 9 to a much more secure micro image and even images for specific types of applications (like http, nodejs, etc). You can find a detailed list of all the CVE's and security status of Red Hat's UBI images in [Red Hat's catalog](https://catalog.redhat.com/software/containers/search).\n",
    "Also, if you're a Red Hat customer you will have full support for these images. But, if you're not, do not worry as some of this images are also uploaded to docker.io so you can access them and have enterprise grade security in your containers for free.\n",
    "\n",
    "![redhatcatalog](Pictures/certifiedcontainers.png)\n",
    "\n",
    "With that we know that our application will be running on top of a trusted and secured container image. Now we need to add our software layer. We used the \"RUN\" option to specify the command that needs to be executed to install the required software in our container image. If you don't have any experience with RHEL, we're just using the dnf command to update all packages, install httpd and clean the cache (this last step is used only to have lighter container image).\n",
    "\n",
    "Once the httpd package is installed we would like to customize the message that our containerized web server will show to the world. For that we used the \"COPY\" command. This command will copy a file from our local directory into the container that we are building. For our container we are passing a file index.html from our local directory to the directory /var/www/html/ inside the container. We do this because we know that httpd uses that file to define the content to be posted through our web server.\n",
    "If we want it to work we will need to create the index.html file so it can the be copied inside the container once we build it. Let's do it."
   ]
  },
  {
   "cell_type": "code",
   "execution_count": 3,
   "metadata": {
    "vscode": {
     "languageId": "shellscript"
    }
   },
   "outputs": [
    {
     "name": "stdout",
     "output_type": "stream",
     "text": [
      "[ssh] host = student491@16.31.86.187, cwd = /student/student491\n",
      "Hello from HPE Dev and Red Hat teams :)\n"
     ]
    }
   ],
   "source": [
    "echo \"Hello from HPE Dev and Red Hat teams :)\" > index.html\n",
    "cat index.html"
   ]
  },
  {
   "cell_type": "markdown",
   "metadata": {},
   "source": [
    "You see a message as output from the previous command, that is the message that our web server will be showing.\n",
    "\n",
    "Next line in our Containerfile is using the \"EXPOSE\" instruction. The EXPOSE instruction informs Podman that the container listens on the specified network ports at runtime, in our case the port 80.\n",
    "Hint: Actually the port opend is defined by the configuration of the daemon being run inside the container. In our case apache is configured to listen on port 80, which it starts to listen on. Nevertheless it is good practice to declare the ports exposed correctly. Other frameworks might rely on this directive.\n",
    "\n",
    "Last, an ENTRYPOINT allows you to configure the command that your container will run when started, in our case we want it to run the httpd binary to make sure our web server is running.\n",
    "\n",
    "Next thing we need to do is building our newly created container image and that is quite a simple task. We just need to run the following command:"
   ]
  },
  {
   "cell_type": "code",
   "execution_count": 4,
   "metadata": {
    "vscode": {
     "languageId": "shellscript"
    }
   },
   "outputs": [
    {
     "name": "stdout",
     "output_type": "stream",
     "text": [
      "[ssh] host = student491@16.31.86.187, cwd = /student/student491\n",
      "STEP 1/5: FROM docker.io/redhat/ubi9\n",
      "Trying to pull docker.io/redhat/ubi9:latest...\n",
      "Getting image source signatures\n",
      "Copying blob sha256:cc7c08d56aada5b55c0b4a8ecc515a2fa2dc25a96479425437ff8fefa387cc20\n",
      "Copying config sha256:20cef057605e396d5ebea057dcf2bd7702cb3ad13682e7b8e801ed18227cb779\n",
      "Writing manifest to image destination\n",
      "Storing signatures\n",
      "STEP 2/5: RUN dnf -y update  && dnf -y install httpd  && dnf clean all\n",
      "Updating Subscription Management repositories.\n",
      "Unable to read consumer identity\n",
      "Subscription Manager is operating in container mode.\n",
      "\n",
      "This system is not registered with an entitlement server. You can use subscription-manager to register.\n",
      "\n",
      "Red Hat Enterprise Linux 9 for x86_64 - AppStre 2.7 MB/s |  25 MB     00:09    \n",
      "Red Hat Enterprise Linux 9 for x86_64 - BaseOS  2.5 MB/s |  14 MB     00:05    \n",
      "Red Hat Universal Base Image 9 (RPMs) - BaseOS  718 kB/s | 510 kB     00:00    \n",
      "Red Hat Universal Base Image 9 (RPMs) - AppStre 1.2 MB/s | 1.7 MB     00:01    \n",
      "Red Hat Universal Base Image 9 (RPMs) - CodeRea 260 kB/s | 187 kB     00:00    \n",
      "Dependencies resolved.\n",
      "Nothing to do.\n",
      "Complete!\n",
      "Updating Subscription Management repositories.\n",
      "Unable to read consumer identity\n",
      "Subscription Manager is operating in container mode.\n",
      "\n",
      "This system is not registered with an entitlement server. You can use subscription-manager to register.\n",
      "\n",
      "Last metadata expiration check: 0:00:05 ago on Wed Nov  1 20:20:54 2023.\n",
      "Dependencies resolved.\n",
      "=======================================================================================\n",
      " Package              Arch    Version           Repository                         Size\n",
      "=======================================================================================\n",
      "Installing:\n",
      " httpd                x86_64  2.4.53-11.el9_2.5 rhel-9-for-x86_64-appstream-rpms   53 k\n",
      "Installing dependencies:\n",
      " apr                  x86_64  1.7.0-11.el9      rhel-9-for-x86_64-appstream-rpms  127 k\n",
      " apr-util             x86_64  1.6.1-20.el9_2.1  rhel-9-for-x86_64-appstream-rpms   97 k\n",
      " apr-util-bdb         x86_64  1.6.1-20.el9_2.1  rhel-9-for-x86_64-appstream-rpms   14 k\n",
      " httpd-core           x86_64  2.4.53-11.el9_2.5 rhel-9-for-x86_64-appstream-rpms  1.5 M\n",
      " httpd-filesystem     noarch  2.4.53-11.el9_2.5 rhel-9-for-x86_64-appstream-rpms   17 k\n",
      " httpd-tools          x86_64  2.4.53-11.el9_2.5 rhel-9-for-x86_64-appstream-rpms   87 k\n",
      " libbrotli            x86_64  1.0.9-6.el9       rhel-9-for-x86_64-baseos-rpms     317 k\n",
      " mailcap              noarch  2.1.49-5.el9      rhel-9-for-x86_64-baseos-rpms      35 k\n",
      " redhat-logos-httpd   noarch  90.4-1.el9        rhel-9-for-x86_64-appstream-rpms   18 k\n",
      "Installing weak dependencies:\n",
      " apr-util-openssl     x86_64  1.6.1-20.el9_2.1  rhel-9-for-x86_64-appstream-rpms   16 k\n",
      " mod_http2            x86_64  1.15.19-4.el9_2.4 rhel-9-for-x86_64-appstream-rpms  153 k\n",
      " mod_lua              x86_64  2.4.53-11.el9_2.5 rhel-9-for-x86_64-appstream-rpms   63 k\n",
      "\n",
      "Transaction Summary\n",
      "=======================================================================================\n",
      "Install  13 Packages\n",
      "\n",
      "Total download size: 2.5 M\n",
      "Installed size: 6.7 M\n",
      "Downloading Packages:\n",
      "(1/13): redhat-logos-httpd-90.4-1.el9.noarch.rp  62 kB/s |  18 kB     00:00    \n",
      "(2/13): apr-1.7.0-11.el9.x86_64.rpm             274 kB/s | 127 kB     00:00    \n",
      "(3/13): mod_lua-2.4.53-11.el9_2.5.x86_64.rpm    314 kB/s |  63 kB     00:00    \n",
      "(4/13): mod_http2-1.15.19-4.el9_2.4.x86_64.rpm  231 kB/s | 153 kB     00:00    \n",
      "(5/13): httpd-2.4.53-11.el9_2.5.x86_64.rpm      242 kB/s |  53 kB     00:00    \n",
      "(6/13): httpd-tools-2.4.53-11.el9_2.5.x86_64.rp 345 kB/s |  87 kB     00:00    \n",
      "(7/13): apr-util-1.6.1-20.el9_2.1.x86_64.rpm    282 kB/s |  97 kB     00:00    \n",
      "(8/13): httpd-core-2.4.53-11.el9_2.5.x86_64.rpm 2.5 MB/s | 1.5 MB     00:00    \n",
      "(9/13): apr-util-bdb-1.6.1-20.el9_2.1.x86_64.rp  70 kB/s |  14 kB     00:00    \n",
      "(10/13): httpd-filesystem-2.4.53-11.el9_2.5.noa  78 kB/s |  17 kB     00:00    \n",
      "(11/13): mailcap-2.1.49-5.el9.noarch.rpm        118 kB/s |  35 kB     00:00    \n",
      "(12/13): apr-util-openssl-1.6.1-20.el9_2.1.x86_  36 kB/s |  16 kB     00:00    \n",
      "(13/13): libbrotli-1.0.9-6.el9.x86_64.rpm       595 kB/s | 317 kB     00:00    \n",
      "--------------------------------------------------------------------------------\n",
      "Total                                           1.5 MB/s | 2.5 MB     00:01     \n",
      "Running transaction check\n",
      "Transaction check succeeded.\n",
      "Running transaction test\n",
      "Transaction test succeeded.\n",
      "Running transaction\n",
      "  Preparing        :                                                        1/1 \n",
      "  Installing       : apr-1.7.0-11.el9.x86_64                               1/13 \n",
      "  Installing       : apr-util-bdb-1.6.1-20.el9_2.1.x86_64                  2/13 \n",
      "  Installing       : apr-util-openssl-1.6.1-20.el9_2.1.x86_64              3/13 \n",
      "  Installing       : apr-util-1.6.1-20.el9_2.1.x86_64                      4/13 \n",
      "  Installing       : httpd-tools-2.4.53-11.el9_2.5.x86_64                  5/13 \n",
      "  Installing       : mailcap-2.1.49-5.el9.noarch                           6/13 \n",
      "  Installing       : libbrotli-1.0.9-6.el9.x86_64                          7/13 \n",
      "  Running scriptlet: httpd-filesystem-2.4.53-11.el9_2.5.noarch             8/13 \n",
      "  Installing       : httpd-filesystem-2.4.53-11.el9_2.5.noarch             8/13 \n",
      "  Installing       : httpd-core-2.4.53-11.el9_2.5.x86_64                   9/13 \n",
      "  Installing       : mod_http2-1.15.19-4.el9_2.4.x86_64                   10/13 \n",
      "  Installing       : mod_lua-2.4.53-11.el9_2.5.x86_64                     11/13 \n",
      "  Installing       : redhat-logos-httpd-90.4-1.el9.noarch                 12/13 \n",
      "  Installing       : httpd-2.4.53-11.el9_2.5.x86_64                       13/13 \n",
      "  Running scriptlet: httpd-2.4.53-11.el9_2.5.x86_64                       13/13 \n",
      "  Verifying        : apr-1.7.0-11.el9.x86_64                               1/13 \n",
      "  Verifying        : redhat-logos-httpd-90.4-1.el9.noarch                  2/13 \n",
      "  Verifying        : mod_http2-1.15.19-4.el9_2.4.x86_64                    3/13 \n",
      "  Verifying        : mod_lua-2.4.53-11.el9_2.5.x86_64                      4/13 \n",
      "  Verifying        : httpd-2.4.53-11.el9_2.5.x86_64                        5/13 \n",
      "  Verifying        : httpd-core-2.4.53-11.el9_2.5.x86_64                   6/13 \n",
      "  Verifying        : httpd-tools-2.4.53-11.el9_2.5.x86_64                  7/13 \n",
      "  Verifying        : apr-util-1.6.1-20.el9_2.1.x86_64                      8/13 \n",
      "  Verifying        : apr-util-bdb-1.6.1-20.el9_2.1.x86_64                  9/13 \n",
      "  Verifying        : httpd-filesystem-2.4.53-11.el9_2.5.noarch            10/13 \n",
      "  Verifying        : apr-util-openssl-1.6.1-20.el9_2.1.x86_64             11/13 \n",
      "  Verifying        : libbrotli-1.0.9-6.el9.x86_64                         12/13 \n",
      "  Verifying        : mailcap-2.1.49-5.el9.noarch                          13/13 \n",
      "Installed products updated.\n",
      "\n",
      "Installed:\n",
      "  apr-1.7.0-11.el9.x86_64                                                       \n",
      "  apr-util-1.6.1-20.el9_2.1.x86_64                                              \n",
      "  apr-util-bdb-1.6.1-20.el9_2.1.x86_64                                          \n",
      "  apr-util-openssl-1.6.1-20.el9_2.1.x86_64                                      \n",
      "  httpd-2.4.53-11.el9_2.5.x86_64                                                \n",
      "  httpd-core-2.4.53-11.el9_2.5.x86_64                                           \n",
      "  httpd-filesystem-2.4.53-11.el9_2.5.noarch                                     \n",
      "  httpd-tools-2.4.53-11.el9_2.5.x86_64                                          \n",
      "  libbrotli-1.0.9-6.el9.x86_64                                                  \n",
      "  mailcap-2.1.49-5.el9.noarch                                                   \n",
      "  mod_http2-1.15.19-4.el9_2.4.x86_64                                            \n",
      "  mod_lua-2.4.53-11.el9_2.5.x86_64                                              \n",
      "  redhat-logos-httpd-90.4-1.el9.noarch                                          \n",
      "\n",
      "Complete!\n",
      "Updating Subscription Management repositories.\n",
      "Unable to read consumer identity\n",
      "Subscription Manager is operating in container mode.\n",
      "\n",
      "This system is not registered with an entitlement server. You can use subscription-manager to register.\n",
      "\n",
      "43 files removed\n",
      "--> 738fc9853be\n",
      "STEP 3/5: COPY index.html /var/www/html/index.html\n",
      "--> 69321468b65\n",
      "STEP 4/5: EXPOSE 80\n",
      "--> dcc766ef877\n",
      "STEP 5/5: ENTRYPOINT /usr/sbin/httpd -DFOREGROUND\n",
      "COMMIT myhttpd:v1\n",
      "--> 7a514fff636\n",
      "Successfully tagged localhost/myhttpd:v1\n",
      "7a514fff636c06b2f550891e4a914d033a4947fcc501c4c63ab181bcd7be61d6\n"
     ]
    }
   ],
   "source": [
    "podman build --tag myhttpd:v1 -f ./Containerfile"
   ]
  },
  {
   "cell_type": "markdown",
   "metadata": {},
   "source": [
    "As you can see we passed two options to the podman build command. The first one, the tag option, specifies the name and tag of the container, in our case the name is myhttpd and v1 is the tag. Next, we used the \"-f\" option to specify the Containerfile that we want to use for building our container, by default podman build would take any file called Containerfile in the current directory but it's a best practice to use the \"-f\" option to make sure we use the correct file.\n",
    "\n",
    "Our container image is now stored locally in our server and we can see it by running the following command:"
   ]
  },
  {
   "cell_type": "code",
   "execution_count": 5,
   "metadata": {
    "vscode": {
     "languageId": "shellscript"
    }
   },
   "outputs": [
    {
     "name": "stdout",
     "output_type": "stream",
     "text": [
      "[ssh] host = student491@16.31.86.187, cwd = /student/student491\n",
      "REPOSITORY             TAG         IMAGE ID      CREATED        SIZE\n",
      "localhost/myhttpd      v1          7a514fff636c  9 seconds ago  242 MB\n",
      "docker.io/redhat/ubi9  latest      20cef057605e  2 weeks ago    217 MB\n"
     ]
    }
   ],
   "source": [
    "podman images"
   ]
  },
  {
   "cell_type": "markdown",
   "metadata": {},
   "source": [
    "Our brand new container image is listed in the repository localhost/myhttpd and the tag v1 as we specified. Now our image is limited to be used in our local system, if we wanted to use it from other platforms we should upload the image to a container registry by running the command \"podman push\". We wont be doing this in this workshop, but you can look at all the details on how to use it by running \"man podman-push\".\n",
    "\n",
    "As a last step let's run our image and check if it works fine."
   ]
  },
  {
   "cell_type": "code",
   "execution_count": 6,
   "metadata": {
    "vscode": {
     "languageId": "shellscript"
    }
   },
   "outputs": [
    {
     "name": "stdout",
     "output_type": "stream",
     "text": [
      "[ssh] host = student491@16.31.86.187, cwd = /student/student491\n",
      "6564d1e973131bffb11dde5fc735d635626e7ef0e818aed216abb417cf1743c2\n"
     ]
    }
   ],
   "source": [
    "podman run -d -p 8080:80 --name myhttpd myhttpd:v1"
   ]
  },
  {
   "cell_type": "markdown",
   "metadata": {},
   "source": [
    "We called our container \"myhttpd\" and pay attention to the option \"-p\". With this option we specified that the port 8080 of our system will be mapped to the port 80 of our container, if you remember correctly we specified in our Containerfile that our application was using the port 80 and now if anything within our network reaches the port 8080 of our RHEL machine it will be redirected to the port 80 of the container.\n",
    "\n",
    "Lets test it by running a curl command against our local machine and the output should be the text we specified previously in our index.html file:"
   ]
  },
  {
   "cell_type": "code",
   "execution_count": 7,
   "metadata": {
    "vscode": {
     "languageId": "shellscript"
    }
   },
   "outputs": [
    {
     "name": "stdout",
     "output_type": "stream",
     "text": [
      "[ssh] host = student491@16.31.86.187, cwd = /student/student491\n",
      "Hello from HPE Dev and Red Hat teams :)\n"
     ]
    }
   ],
   "source": [
    "curl -s localhost:8080"
   ]
  },
  {
   "cell_type": "markdown",
   "metadata": {},
   "source": [
    "# Containers are ephemeral\n",
    "\n",
    "You may have heard it, \"containers are ephemeral\", but what does it mean exactly? Let's use our newly created container for explaining it.\n",
    "\n",
    "Our container is showing the message \"Hello from HPE Dev and Red Hat teams :)\" when we run a curl to its exposed port. Now the container is running and we are going to change that message by accesing interactively to the container.\n",
    "\n",
    "First open a new tab by clicking on the \"+\" sign on top of the notebook.\n",
    "\n",
    "![interactive-container-1](Pictures/interactive-container-1.png)\n",
    "\n",
    "In the launcher tab select the terminal option.\n",
    "\n",
    "![interactive-container-2](Pictures/interactive-container-2.png)\n",
    "\n",
    "Then ssh into the remote podman machine 16.31.86.187. Remember to use your student number which may be different from the one in the picture. Also, if you get asked, accept the connection to the host by typing \"yes\".\n",
    "\n",
    "![interactive-container-3](Pictures/interactive-container-3.png)\n",
    "\n",
    "Now run the command \"podman exec -it myhttpd /bin/bash\", it will open an interactive shell to the container. Check that the content of the file by running the command \"cat /var/www/html/index.html\".\n",
    "\n",
    "ADD PICTURE\n",
    "\n",
    "You have confirmed you logged into the right container. Lets modify the content of the file by running the command \"echo 'Am I ephemeral?' > /var/www/html/index.html\".\n",
    "\n",
    "ADD PICTURE\n",
    "\n",
    "Check it worked out running again \"cat /var/www/html/index.html\".\n",
    "\n",
    "ADD PICTURE\n",
    "\n",
    "Demonstrate the web server is showing the new message:"
   ]
  },
  {
   "cell_type": "code",
   "execution_count": 8,
   "metadata": {
    "vscode": {
     "languageId": "shellscript"
    }
   },
   "outputs": [
    {
     "name": "stdout",
     "output_type": "stream",
     "text": [
      "[ssh] host = student491@16.31.86.187, cwd = /student/student491\n",
      "Am I ephemeral?\n"
     ]
    }
   ],
   "source": [
    "curl -s localhost:8080"
   ]
  },
  {
   "cell_type": "markdown",
   "metadata": {},
   "source": [
    "As you can see the output shows the new message. You can now close the tab that we opened to interact with the container.\n",
    "\n",
    "The big question is: what happens if the container is stopped? And what if it's removed? Lets see.\n",
    "\n",
    "First stop the container:"
   ]
  },
  {
   "cell_type": "code",
   "execution_count": 9,
   "metadata": {
    "vscode": {
     "languageId": "shellscript"
    }
   },
   "outputs": [
    {
     "name": "stdout",
     "output_type": "stream",
     "text": [
      "[ssh] host = student491@16.31.86.187, cwd = /student/student491\n",
      "myhttpd\n"
     ]
    }
   ],
   "source": [
    "podman stop myhttpd"
   ]
  },
  {
   "cell_type": "markdown",
   "metadata": {},
   "source": [
    "Check the container was stopped by looking at its status:"
   ]
  },
  {
   "cell_type": "code",
   "execution_count": 10,
   "metadata": {
    "vscode": {
     "languageId": "shellscript"
    }
   },
   "outputs": [
    {
     "name": "stdout",
     "output_type": "stream",
     "text": [
      "[ssh] host = student491@16.31.86.187, cwd = /student/student491\n",
      "CONTAINER ID  IMAGE                 COMMAND     CREATED         STATUS                    PORTS                 NAMES\n",
      "6564d1e97313  localhost/myhttpd:v1              10 minutes ago  Exited (0) 3 seconds ago  0.0.0.0:8080->80/tcp  myhttpd\n"
     ]
    }
   ],
   "source": [
    "podman ps -a"
   ]
  },
  {
   "cell_type": "markdown",
   "metadata": {},
   "source": [
    "Now restart the container and use curl again to learn what message is showing."
   ]
  },
  {
   "cell_type": "code",
   "execution_count": 11,
   "metadata": {
    "vscode": {
     "languageId": "shellscript"
    }
   },
   "outputs": [
    {
     "name": "stdout",
     "output_type": "stream",
     "text": [
      "[ssh] host = student491@16.31.86.187, cwd = /student/student491\n",
      "myhttpd\n",
      "Am I ephemeral?\n"
     ]
    }
   ],
   "source": [
    "podman start myhttpd\n",
    "curl -s localhost:8080"
   ]
  },
  {
   "cell_type": "markdown",
   "metadata": {},
   "source": [
    "It's showing the same message! So we learnt that you can stop and start a container and the information within it will persist. But what happens if we remove and recreate it?\n",
    "Lets test it. We will start stopping and deleting the container."
   ]
  },
  {
   "cell_type": "code",
   "execution_count": 12,
   "metadata": {
    "vscode": {
     "languageId": "shellscript"
    }
   },
   "outputs": [
    {
     "name": "stdout",
     "output_type": "stream",
     "text": [
      "[ssh] host = student491@16.31.86.187, cwd = /student/student491\n",
      "myhttpd\n",
      "myhttpd\n"
     ]
    }
   ],
   "source": [
    "podman stop myhttpd\n",
    "podman rm myhttpd"
   ]
  },
  {
   "cell_type": "markdown",
   "metadata": {},
   "source": [
    "Now we will recreate the container and check the message."
   ]
  },
  {
   "cell_type": "code",
   "execution_count": 13,
   "metadata": {
    "vscode": {
     "languageId": "shellscript"
    }
   },
   "outputs": [
    {
     "name": "stdout",
     "output_type": "stream",
     "text": [
      "[ssh] host = student491@16.31.86.187, cwd = /student/student491\n",
      "78964d49332a8a8e5abc56c2ae8dc3202a41a5d4e96af1cfa487eceb16f1e947\n",
      "Hello from HPE Dev and Red Hat teams :)\n"
     ]
    }
   ],
   "source": [
    "podman run -d --rm -p 8080:80 --name myhttpd myhttpd:v1\n",
    "curl -s localhost:8080"
   ]
  },
  {
   "cell_type": "markdown",
   "metadata": {},
   "source": [
    "Well, as you can see the message it's showing is the one we had at the beginning. This happens because we have actually created a new container from the same image, so it will show the content provided within the container image.\n",
    "\n",
    "There are scenarios in which you want to persist data. For example, if you have v1 and v2 of your containerized database you will have two container images (one for each version). For updating your application you will need to remove your old v1 containers and create new v2 ones, therefore all data will be lost and, of course, you don't want to lose database data. If you want to persist data when doing this kind of operations you will need to use volumes and connect them to the containers instead of just using the storage layered within the container.\n",
    "\n",
    "Using volumes with Podman will be covered in a future Podman 201 workshop, keep yourself up to date with HPE Dev workshops to access to it as soon as it's released!\n",
    "\n",
    "# Cleanup"
   ]
  },
  {
   "cell_type": "code",
   "execution_count": null,
   "metadata": {
    "vscode": {
     "languageId": "shellscript"
    }
   },
   "outputs": [],
   "source": [
    "podman stop --all\n",
    "podman rm --all\n",
    "podman rmi localhost/myhttpd:v1\n",
    "rm ./Containerfile ./index.html"
   ]
  },
  {
   "cell_type": "code",
   "execution_count": null,
   "metadata": {},
   "outputs": [],
   "source": [
    "%logout"
   ]
  }
 ],
 "metadata": {
  "kernelspec": {
   "display_name": "SSH",
   "language": "bash",
   "name": "ssh"
  },
  "language_info": {
   "codemirror_mode": "shell",
   "file_extension": ".sh",
   "mimetype": "text/x-sh",
   "name": "ssh"
  }
 },
 "nbformat": 4,
 "nbformat_minor": 4
}
