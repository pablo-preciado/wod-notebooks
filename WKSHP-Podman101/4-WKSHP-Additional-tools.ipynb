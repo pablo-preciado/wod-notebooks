{
 "cells": [
  {
   "cell_type": "markdown",
   "metadata": {},
   "source": [
    "![Podmanlogo](Pictures/podman-logo.png)"
   ]
  },
  {
   "cell_type": "markdown",
   "metadata": {},
   "source": [
    "# Podman ecosystem\n",
    "\n",
    "We have seen what an awsome piece of software Podman is, but that is not all. Podman counts with some other tools in its ecosystem that makes everything run smoothly.\n",
    "Lets review all of them.\n",
    "\n",
    "## Managing multiple containers: podman compose and kubernetes\n",
    "\n",
    "Running a single container with podman is just fine, we have demonstrated how simple it is througout this workshop. But, what happens if I want to run multiple containers simultaneously? Do you need to execute them one by one?\n",
    "\n",
    "You can use the tool podman compose to execute multiple containers in a single command. Podman compose is a tool that helps you defining the list of containers and all of their configuration in a text file written in yaml format. Then you can choose to execute, stop, remove, update all of the containers defined in the file at once. Podman compose is a very powerful tool but it's limited to execute on a single system.\n",
    "\n",
    "If you're looking at deploying your containers in multiple systems simultaneously in order to get scalability and high availability then you will most probably end up using kubernetes as it has become the standard platform for running containerized workloads in the enterprise.\n",
    "Kubernetes, same as podman composer, uses yaml files to define the desired state of your containerized workloads and, once you pass the file to the control plane nodes of kubernetes, it will make sure your containers run according to your specifications. Furthermore they will be spread accross all the nodes that are part of your kubernetes cluster.\n",
    "\n",
    "![k8slogo](Pictures/kubernetes-logo.png)\n",
    "\n",
    "Now, transitioning from single system container engines like Podman or Docker to kubernetes may not always be easy. That is why Podman can generate a kubernetes yaml file from the container that you are running righ now with Podman. First you just need to execute a new container:"
   ]
  },
  {
   "cell_type": "code",
   "execution_count": null,
   "metadata": {},
   "outputs": [],
   "source": [
    "%login student491@16.31.86.187"
   ]
  },
  {
   "cell_type": "code",
   "execution_count": null,
   "metadata": {
    "vscode": {
     "languageId": "shellscript"
    }
   },
   "outputs": [],
   "source": [
    "podman run -d --rm --name=kubepodman docker.io/redhat/ubi9 sleep 999"
   ]
  },
  {
   "cell_type": "markdown",
   "metadata": {},
   "source": [
    "Now your container is running:"
   ]
  },
  {
   "cell_type": "code",
   "execution_count": null,
   "metadata": {
    "vscode": {
     "languageId": "shellscript"
    }
   },
   "outputs": [],
   "source": [
    "podman ps"
   ]
  },
  {
   "cell_type": "markdown",
   "metadata": {},
   "source": [
    "With this, you can execute the \"podman generate kube\" command to export a yaml file, which you can use as definition for your kubernetes environment."
   ]
  },
  {
   "cell_type": "code",
   "execution_count": null,
   "metadata": {
    "vscode": {
     "languageId": "shellscript"
    }
   },
   "outputs": [],
   "source": [
    "podman generate kube kubepodman > kubepodman.yml\n",
    "cat kubepodman.yml"
   ]
  },
  {
   "cell_type": "markdown",
   "metadata": {},
   "source": [
    "The output of the previous command is the content of the yaml file that you need to use for running your container in a kubernetes workload. At the beginning of the file you can even see a few comments in which you find the command you need to run in order to start executing this container in your kubernetes cluster: \"kubectl create -f kubepodman.yml\".\n",
    "\n",
    "As you can see, podman has multiple tools that allow you to transition to managing multiple containers at once and simplify the transition to those tools.\n",
    "\n",
    "## Advanced container images management: Skopeo\n",
    "\n",
    "Skopeo is a tool for manipulating, inspecting, signing, and transferring container images and image repositories on linux systems, Windows and MacOS. Like Podman and Buildah, Skopeo is an open source community-driven project that does not require running a container daemon.\n",
    "\n",
    "With Skopeo, you can inspect images on a remote registry without having to download the entire image with all its layers, making it a lightweight and modular solution for working with container images across different formats, including Open Container Initiative (OCI) and Docker images.\n",
    "\n",
    "![skopeologo](Pictures/skopeo.png)\n",
    "\n",
    "In most cases you will find Skopeo a super useful tool to manage container images that are stored in remote registries without pulling them to your system. For example you can inspect a remote container by using the command \"skopeo inspect\". First lets make sure that the image we will be inspecting is not locally stored in our system."
   ]
  },
  {
   "cell_type": "code",
   "execution_count": null,
   "metadata": {
    "vscode": {
     "languageId": "shellscript"
    }
   },
   "outputs": [],
   "source": [
    "podman stop --all\n",
    "podman rmi docker.io/redhat/ubi9\n",
    "podman images"
   ]
  },
  {
   "cell_type": "markdown",
   "metadata": {},
   "source": [
    "You should see an empty list.\n",
    "\n",
    "Now lets inspect a remote container image, an image residing in docker.io, with skopeo:"
   ]
  },
  {
   "cell_type": "code",
   "execution_count": null,
   "metadata": {
    "vscode": {
     "languageId": "shellscript"
    }
   },
   "outputs": [],
   "source": [
    "skopeo inspect docker://docker.io/redhat/ubi9-minimal"
   ]
  },
  {
   "cell_type": "markdown",
   "metadata": {},
   "source": [
    "Pay attention to the naming convention, you need to specify \"docker://\" before the repo, container name and tag.\n",
    "\n",
    "As you can see we are able to get the information about the container image but we did not need to pull the image for that. Lets check that the image was not downloaded."
   ]
  },
  {
   "cell_type": "code",
   "execution_count": null,
   "metadata": {
    "vscode": {
     "languageId": "shellscript"
    }
   },
   "outputs": [],
   "source": [
    "podman images"
   ]
  },
  {
   "cell_type": "markdown",
   "metadata": {},
   "source": [
    "Another very intereting and widely used skopeo functionality is copying images from a source registry to a target registry with the \"skopeo copy\" command, by using it you don't need to have a copy of the image in your local system.\n",
    "\n",
    "## Advanced container image creation using buildah\n",
    "\n",
    "The command line tool buildah provides the ability of creating container images from a running container, a Containerfile or from scratch. The resulting images are OCI (Open Container Initiative) compliant, meaning that they will work with any container enginge that complies with the OCI standard such as podman, docker or CRI-O.\n",
    "\n",
    "![buildahlogo](Pictures/buildah.png)\n",
    "\n",
    "Most enterprises will be able to just work with Podman build capabilities, but if you need to cover an advanced use case like building a container image from scratch, that is without a base container image, buildah is definitely the tool you're looking for. We will not cover this use case in this workshop as it's quite advanced.\n",
    "\n",
    "## Podman for Desktop\n",
    "\n",
    "If you're not experienced with command line tools there is a super powerful tool that brings a graphical user experience to Podman, that is Podman Desktop. It is available for Windows, macOS and Linux.\n",
    "\n",
    "![PodmanDesktop](Pictures/Podman_Desktop.png)\n",
    "\n",
    "Moreover, Podman Desktop is not limited to Podman, it can also interact with kubernetes clusters and is a very helpful tool in the transition to containerized applications for enterprises that are willing to take this path.\n",
    "\n",
    "# Cleanup"
   ]
  },
  {
   "cell_type": "code",
   "execution_count": null,
   "metadata": {
    "vscode": {
     "languageId": "shellscript"
    }
   },
   "outputs": [],
   "source": [
    "podman stop --all\n",
    "podman rm --all\n",
    "podman rmi docker.io/redhat/ubi9\n",
    "rm kubepodman.yml"
   ]
  },
  {
   "cell_type": "code",
   "execution_count": null,
   "metadata": {},
   "outputs": [],
   "source": [
    "%logout"
   ]
  }
 ],
 "metadata": {
  "kernelspec": {
   "display_name": "Python 3",
   "language": "python",
   "name": "python3"
  },
  "language_info": {
   "codemirror_mode": "shell",
   "file_extension": ".sh",
   "mimetype": "text/x-sh",
   "name": "python",
   "version": "3.11.6"
  }
 },
 "nbformat": 4,
 "nbformat_minor": 4
}
