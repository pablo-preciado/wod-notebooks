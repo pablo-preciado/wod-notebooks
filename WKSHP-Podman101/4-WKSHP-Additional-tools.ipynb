{
 "cells": [
  {
   "cell_type": "markdown",
   "metadata": {},
   "source": [
    "# Podman ecosystem\n",
    "\n",
    "We have seen what an awsome piece of software Podman is, but that is not all. Podman counts with some other tools in its ecosystem that makes everything run smoothly.\n",
    "Lets review all of them.\n",
    "\n",
    "## Managing multiple containers: podman compose and kubernetes\n",
    "\n",
    "Running a single container with podman is just fine, we have demonstrated how simple it is througout this workshop, but what happens if I want to run multiple containers simultaneously?\n",
    "\n",
    "You can use the tool podman compose to do that. Podman compose is a tool that helps you defining the list of containers and all of their configuration in a text file written in yaml format. Then you can choose to execute, stop, remove, update and so on all of the containers defined in the file at once. Podman compose is a very powerful tool but it's limited to a single system.\n",
    "\n",
    "If you're looking at deploying your containers in a number of systems in order to get high availability then you will most probably end up using kubernetes as it has become the standard platform for running containerized workloads in the enterprise.\n",
    "Kubernetes, same as podman composer, uses yaml files to define the desired state of your containerized workloads and, once you pass the file to the control plane nodes of kubernetes, it will make sure your containers run following your specifications accross as many nodes as you may have.\n",
    "\n",
    "Now, transitioning from single system container engines like Podman or Docker to kubernetes may not always be easy. That is why Podman can generate a kubernetes yaml file from the container that you are running righ now with Podman. First you just need to execute a new container:"
   ]
  },
  {
   "cell_type": "code",
   "execution_count": 1,
   "metadata": {
    "vscode": {
     "languageId": "shellscript"
    }
   },
   "outputs": [
    {
     "name": "stdout",
     "output_type": "stream",
     "text": [
      "c39ee8c5bc8cbe0f8c6d064694ecbe984c8a7fac4e0dd16fbd81c3aec209f785\n"
     ]
    }
   ],
   "source": [
    "!podman run -d --rm --name=kubepodman docker.io/redhat/ubi9 sleep 999"
   ]
  },
  {
   "cell_type": "markdown",
   "metadata": {},
   "source": [
    "Now your container is running:"
   ]
  },
  {
   "cell_type": "code",
   "execution_count": 2,
   "metadata": {
    "vscode": {
     "languageId": "shellscript"
    }
   },
   "outputs": [
    {
     "name": "stdout",
     "output_type": "stream",
     "text": [
      "CONTAINER ID  IMAGE                         COMMAND     CREATED             STATUS             PORTS       NAMES\n",
      "c39ee8c5bc8c  docker.io/redhat/ubi9:latest  sleep 999   About a minute ago  Up About a minute              kubepodman\n"
     ]
    }
   ],
   "source": [
    "!podman ps"
   ]
  },
  {
   "cell_type": "markdown",
   "metadata": {},
   "source": [
    "With this, you can execute the \"podman generate kube\" command to export a yaml file that then you can use for your kubernetes environment."
   ]
  },
  {
   "cell_type": "code",
   "execution_count": 9,
   "metadata": {
    "vscode": {
     "languageId": "shellscript"
    }
   },
   "outputs": [
    {
     "name": "stdout",
     "output_type": "stream",
     "text": [
      "# Save the output of this file and use kubectl create -f to import\n",
      "# it into Kubernetes.\n",
      "#\n",
      "# Created with podman-4.7.0\n",
      "apiVersion: v1\n",
      "kind: Pod\n",
      "metadata:\n",
      "  creationTimestamp: \"2023-10-20T11:44:37Z\"\n",
      "  labels:\n",
      "    app: kubepodman-pod\n",
      "  name: kubepodman-pod\n",
      "spec:\n",
      "  containers:\n",
      "  - command:\n",
      "    - sleep\n",
      "    - \"999\"\n",
      "    image: docker.io/redhat/ubi9:latest\n",
      "    name: kubepodman\n",
      "\n"
     ]
    }
   ],
   "source": [
    "!podman generate kube kubepodman > kubepodman.yml\n",
    "!cat kubepodman.yml"
   ]
  },
  {
   "cell_type": "markdown",
   "metadata": {},
   "source": [
    "The output of the previous command is the content of the yaml file that you need to use for running your container in a kubernetes workload. At the beginning of the file you can even see a few comments in which you find the command you need to run in order to start executing this container in your kubernetes cluster: \"kubectl create -f kubepodman.yml\".\n",
    "\n",
    "As you can see, podman has multiple tools that allow you to transition to managing multiple containers at once and simplify the transition to those tools.\n",
    "\n",
    "## Advanced container images management: Skopeo\n",
    "\n",
    "Skopeo is a tool for manipulating, inspecting, signing, and transferring container images and image repositories on linux systems, Windows and MacOS. Like Podman and Buildah, Skopeo is an open source community-driven project that does not require running a container daemon.\n",
    "\n",
    "With Skopeo, you can inspect images on a remote registry without having to download the entire image with all its layers, making it a lightweight and modular solution for working with container images across different formats, including Open Container Initiative (OCI) and Docker images."
   ]
  },
  {
   "cell_type": "markdown",
   "metadata": {},
   "source": [
    "Skopeo, Buildah, podman k8s, podman compose"
   ]
  }
 ],
 "metadata": {
  "kernelspec": {
   "display_name": "Python 3",
   "language": "python",
   "name": "python3"
  },
  "language_info": {
   "codemirror_mode": {
    "name": "ipython",
    "version": 3
   },
   "file_extension": ".py",
   "mimetype": "text/x-python",
   "name": "python",
   "nbconvert_exporter": "python",
   "pygments_lexer": "ipython3",
   "version": "3.11.6"
  }
 },
 "nbformat": 4,
 "nbformat_minor": 2
}
