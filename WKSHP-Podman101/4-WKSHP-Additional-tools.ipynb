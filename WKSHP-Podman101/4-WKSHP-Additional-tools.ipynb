{
 "cells": [
  {
   "cell_type": "markdown",
   "metadata": {},
   "source": [
    "![Podmanlogo](Pictures/podman-logo.png)"
   ]
  },
  {
   "cell_type": "markdown",
   "metadata": {},
   "source": [
    "# Podman ecosystem\n",
    "\n",
    "We have seen what an awsome piece of software Podman is, but that is not all. Podman counts with some other tools in its ecosystem that makes everything run smoothly.\n",
    "Lets review all of them.\n",
    "\n",
    "## Managing multiple containers: podman compose and kubernetes\n",
    "\n",
    "Running a single container with podman is just fine, we have demonstrated how simple it is througout this workshop. But, what happens if I want to run multiple containers simultaneously? Do you need to execute them one by one?\n",
    "\n",
    "You can use the tool podman compose to execute multiple containers in a single command. Podman compose is a tool that helps you defining the list of containers and all of their configuration in a text file written in yaml format. Then you can choose to execute, stop, remove, update and so on all of the containers defined in the file at once. Podman compose is a very powerful tool but it's limited to a single system.\n",
    "\n",
    "If you're looking at deploying your containers in multiple systems simultaneously in order to get high availability then you will most probably end up using kubernetes as it has become the standard platform for running containerized workloads in the enterprise.\n",
    "Kubernetes, same as podman composer, uses yaml files to define the desired state of your containerized workloads and, once you pass the file to the control plane nodes of kubernetes, it will make sure your containers run following your specifications and they will be able to run in any of the nodes that are part of your kubernetes cluster.\n",
    "\n",
    "![k8slogo](Pictures/kubernetes-logo.png)\n",
    "\n",
    "Now, transitioning from single system container engines like Podman or Docker to kubernetes may not always be easy. That is why Podman can generate a kubernetes yaml file from the container that you are running righ now with Podman. First you just need to execute a new container:"
   ]
  },
  {
   "cell_type": "code",
   "execution_count": null,
   "metadata": {
    "vscode": {
     "languageId": "shellscript"
    }
   },
   "outputs": [],
   "source": [
    "!podman run -d --rm --name=kubepodman docker.io/redhat/ubi9 sleep 999"
   ]
  },
  {
   "cell_type": "markdown",
   "metadata": {},
   "source": [
    "Now your container is running:"
   ]
  },
  {
   "cell_type": "code",
   "execution_count": null,
   "metadata": {
    "vscode": {
     "languageId": "shellscript"
    }
   },
   "outputs": [],
   "source": [
    "!podman ps"
   ]
  },
  {
   "cell_type": "markdown",
   "metadata": {},
   "source": [
    "With this, you can execute the \"podman generate kube\" command to export a yaml file that then you can use for your kubernetes environment."
   ]
  },
  {
   "cell_type": "code",
   "execution_count": null,
   "metadata": {
    "vscode": {
     "languageId": "shellscript"
    }
   },
   "outputs": [],
   "source": [
    "!podman generate kube kubepodman > kubepodman.yml\n",
    "!cat kubepodman.yml"
   ]
  },
  {
   "cell_type": "markdown",
   "metadata": {},
   "source": [
    "The output of the previous command is the content of the yaml file that you need to use for running your container in a kubernetes workload. At the beginning of the file you can even see a few comments in which you find the command you need to run in order to start executing this container in your kubernetes cluster: \"kubectl create -f kubepodman.yml\".\n",
    "\n",
    "As you can see, podman has multiple tools that allow you to transition to managing multiple containers at once and simplify the transition to those tools.\n",
    "\n",
    "## Advanced container images management: Skopeo\n",
    "\n",
    "Skopeo is a tool for manipulating, inspecting, signing, and transferring container images and image repositories on linux systems, Windows and MacOS. Like Podman and Buildah, Skopeo is an open source community-driven project that does not require running a container daemon.\n",
    "\n",
    "With Skopeo, you can inspect images on a remote registry without having to download the entire image with all its layers, making it a lightweight and modular solution for working with container images across different formats, including Open Container Initiative (OCI) and Docker images.\n",
    "\n",
    "![skopeologo](Pictures/skopeo.png)\n",
    "\n",
    "In most cases you will find Skopeo a super useful tool to manage container images that are stored in remote registries without pulling them to your system. For example you can inspect a remote container by using the command \"skopeo inspect\". First lets make sure that the image we will be inspecting is not locally stored in our system."
   ]
  },
  {
   "cell_type": "code",
   "execution_count": 24,
   "metadata": {
    "vscode": {
     "languageId": "shellscript"
    }
   },
   "outputs": [
    {
     "name": "stdout",
     "output_type": "stream",
     "text": [
      "REPOSITORY                                                          TAG         IMAGE ID      CREATED        SIZE\n",
      "<none>                                                              <none>      95f0b9bd1c87  24 hours ago   314 MB\n",
      "quay.io/skupper/skupper-router                                      2.4.3       9f6d24d58351  10 days ago    275 MB\n",
      "localhost/bcl-ov                                                    15          ef3ba4fe4c30  6 weeks ago    717 MB\n",
      "<none>                                                              <none>      2be670a5b439  6 weeks ago    803 MB\n",
      "<none>                                                              <none>      7a4c1f405114  6 weeks ago    369 MB\n",
      "quay.io/mschreie/bcl-ov                                             14          a3e1ce7d79a7  2 months ago   717 MB\n",
      "<none>                                                              <none>      af6827d3105f  2 months ago   299 MB\n",
      "quay.io/redhat_emp1/ee-ansible-ssa                                  latest      38437b6fdefe  2 months ago   1.7 GB\n",
      "<none>                                                              <none>      d44bc6403893  3 months ago   816 MB\n",
      "<none>                                                              <none>      698da9f60ccb  3 months ago   816 MB\n",
      "<none>                                                              <none>      005379e9a001  4 months ago   783 MB\n",
      "<none>                                                              <none>      2774d1848e63  4 months ago   821 MB\n",
      "registry.redhat.io/ansible-automation-platform-23/ee-minimal-rhel8  1.0.0-294   a45df9628f1c  6 months ago   299 MB\n",
      "quay.io/ansible/ansible-runner                                      latest      bec0dc171168  17 months ago  816 MB\n",
      "quay.io/ansible/ansible-builder                                     latest      b0348faa7f41  20 months ago  779 MB\n"
     ]
    }
   ],
   "source": [
    "!podman images"
   ]
  },
  {
   "cell_type": "markdown",
   "metadata": {},
   "source": [
    "You should see an empty list.\n",
    "\n",
    "Now lets inspect a remote container image, an image residing in docker.io, with skopeo:"
   ]
  },
  {
   "cell_type": "code",
   "execution_count": 25,
   "metadata": {
    "vscode": {
     "languageId": "shellscript"
    }
   },
   "outputs": [
    {
     "name": "stdout",
     "output_type": "stream",
     "text": [
      "{\n",
      "    \"Name\": \"docker.io/redhat/ubi9-minimal\",\n",
      "    \"Digest\": \"sha256:c8c7a06ce1c5fa23c1cbd7a0fd891eacd099bc232aa9985ddb183cfe98d1deaf\",\n",
      "    \"RepoTags\": [\n",
      "        \"9.0.0\",\n",
      "        \"9.0.0-1471\",\n",
      "        \"9.0.0-1471-source\",\n",
      "        \"9.0.0-1471.1655190711\",\n",
      "        \"9.0.0-1471.1655190711-source\",\n",
      "        \"9.0.0-1575\",\n",
      "        \"9.0.0-1575-source\",\n",
      "        \"9.0.0-1580\",\n",
      "        \"9.0.0-1580-source\",\n",
      "        \"9.0.0-1608\",\n",
      "        \"9.0.0-1608-source\",\n",
      "        \"9.0.0-1644\",\n",
      "        \"9.0.0-1644-source\",\n",
      "        \"9.0.0-1644.1666621587\",\n",
      "        \"9.0.0-1644.1666621587-source\",\n",
      "        \"9.0.0-1687\",\n",
      "        \"9.0.0-1687-source\",\n",
      "        \"9.0.0-1700\",\n",
      "        \"9.0.0-1700-source\",\n",
      "        \"9.1\",\n",
      "        \"9.1.0\",\n",
      "        \"9.1.0-1656\",\n",
      "        \"9.1.0-1656-source\",\n",
      "        \"9.1.0-1656.1669627757\",\n",
      "        \"9.1.0-1656.1669627757-source\",\n",
      "        \"9.1.0-1760\",\n",
      "        \"9.1.0-1760-source\",\n",
      "        \"9.1.0-1760.1675784957\",\n",
      "        \"9.1.0-1760.1675784957-source\",\n",
      "        \"9.1.0-1793\",\n",
      "        \"9.1.0-1793-source\",\n",
      "        \"9.1.0-1829\",\n",
      "        \"9.1.0-1829-source\",\n",
      "        \"9.2\",\n",
      "        \"9.2-484\",\n",
      "        \"9.2-484-source\",\n",
      "        \"9.2-691\",\n",
      "        \"9.2-691-source\",\n",
      "        \"9.2-717\",\n",
      "        \"9.2-717-source\",\n",
      "        \"9.2-750\",\n",
      "        \"9.2-750-source\",\n",
      "        \"9.2-750.1696515534\",\n",
      "        \"9.2-750.1696515534-source\",\n",
      "        \"9.2-750.1697534106\",\n",
      "        \"9.2-750.1697534106-source\",\n",
      "        \"9.2-750.1697625013\",\n",
      "        \"9.2-750.1697625013-source\",\n",
      "        \"latest\"\n",
      "    ],\n",
      "    \"Created\": \"2023-10-18T11:43:40.782759302Z\",\n",
      "    \"DockerVersion\": \"\",\n",
      "    \"Labels\": {\n",
      "        \"architecture\": \"x86_64\",\n",
      "        \"build-date\": \"2023-10-18T11:30:28\",\n",
      "        \"com.redhat.component\": \"ubi9-minimal-container\",\n",
      "        \"com.redhat.license_terms\": \"https://www.redhat.com/en/about/red-hat-end-user-license-agreements#UBI\",\n",
      "        \"description\": \"The Universal Base Image Minimal is a stripped down image that uses microdnf as a package manager. This base image is freely redistributable, but Red Hat only supports Red Hat technologies through subscriptions for Red Hat products. This image is maintained by Red Hat and updated regularly.\",\n",
      "        \"distribution-scope\": \"public\",\n",
      "        \"io.buildah.version\": \"1.29.0\",\n",
      "        \"io.k8s.description\": \"The Universal Base Image Minimal is a stripped down image that uses microdnf as a package manager. This base image is freely redistributable, but Red Hat only supports Red Hat technologies through subscriptions for Red Hat products. This image is maintained by Red Hat and updated regularly.\",\n",
      "        \"io.k8s.display-name\": \"Red Hat Universal Base Image 9 Minimal\",\n",
      "        \"io.openshift.expose-services\": \"\",\n",
      "        \"io.openshift.tags\": \"minimal rhel9\",\n",
      "        \"maintainer\": \"Red Hat, Inc.\",\n",
      "        \"name\": \"ubi9-minimal\",\n",
      "        \"release\": \"750.1697625013\",\n",
      "        \"summary\": \"Provides the latest release of the minimal Red Hat Universal Base Image 9.\",\n",
      "        \"url\": \"https://access.redhat.com/containers/#/registry.access.redhat.com/ubi9-minimal/images/9.2-750.1697625013\",\n",
      "        \"vcs-ref\": \"7ef59505f75bf0c11c8d3addefebee5ceaaf4c41\",\n",
      "        \"vcs-type\": \"git\",\n",
      "        \"vendor\": \"Red Hat, Inc.\",\n",
      "        \"version\": \"9.2\"\n",
      "    },\n",
      "    \"Architecture\": \"amd64\",\n",
      "    \"Os\": \"linux\",\n",
      "    \"Layers\": [\n",
      "        \"sha256:2f5211d9dccf1de31345273282bf9a4f2a32341a7352b0435155277e54fc0cd1\"\n",
      "    ],\n",
      "    \"LayersData\": [\n",
      "        {\n",
      "            \"MIMEType\": \"application/vnd.docker.image.rootfs.diff.tar.gzip\",\n",
      "            \"Digest\": \"sha256:2f5211d9dccf1de31345273282bf9a4f2a32341a7352b0435155277e54fc0cd1\",\n",
      "            \"Size\": 37862118,\n",
      "            \"Annotations\": null\n",
      "        }\n",
      "    ],\n",
      "    \"Env\": [\n",
      "        \"PATH=/usr/local/sbin:/usr/local/bin:/usr/sbin:/usr/bin:/sbin:/bin\",\n",
      "        \"container=oci\"\n",
      "    ]\n",
      "}\n"
     ]
    }
   ],
   "source": [
    "!skopeo inspect docker://docker.io/redhat/ubi9-minimal"
   ]
  },
  {
   "cell_type": "markdown",
   "metadata": {},
   "source": [
    "Pay attention to the naming convention, you need to specify \"docker://\" before the repo, container name and tag.\n",
    "\n",
    "As you can see we are able to get the information about the container image but we did not need to pull the image for that. Lets check that the image was not downloaded."
   ]
  },
  {
   "cell_type": "code",
   "execution_count": 26,
   "metadata": {
    "vscode": {
     "languageId": "shellscript"
    }
   },
   "outputs": [
    {
     "name": "stdout",
     "output_type": "stream",
     "text": [
      "REPOSITORY                                                          TAG         IMAGE ID      CREATED        SIZE\n",
      "<none>                                                              <none>      95f0b9bd1c87  24 hours ago   314 MB\n",
      "quay.io/skupper/skupper-router                                      2.4.3       9f6d24d58351  10 days ago    275 MB\n",
      "localhost/bcl-ov                                                    15          ef3ba4fe4c30  6 weeks ago    717 MB\n",
      "<none>                                                              <none>      2be670a5b439  6 weeks ago    803 MB\n",
      "<none>                                                              <none>      7a4c1f405114  6 weeks ago    369 MB\n",
      "quay.io/mschreie/bcl-ov                                             14          a3e1ce7d79a7  2 months ago   717 MB\n",
      "<none>                                                              <none>      af6827d3105f  2 months ago   299 MB\n",
      "quay.io/redhat_emp1/ee-ansible-ssa                                  latest      38437b6fdefe  2 months ago   1.7 GB\n",
      "<none>                                                              <none>      d44bc6403893  3 months ago   816 MB\n",
      "<none>                                                              <none>      698da9f60ccb  3 months ago   816 MB\n",
      "<none>                                                              <none>      005379e9a001  4 months ago   783 MB\n",
      "<none>                                                              <none>      2774d1848e63  4 months ago   821 MB\n",
      "registry.redhat.io/ansible-automation-platform-23/ee-minimal-rhel8  1.0.0-294   a45df9628f1c  6 months ago   299 MB\n",
      "quay.io/ansible/ansible-runner                                      latest      bec0dc171168  17 months ago  816 MB\n",
      "quay.io/ansible/ansible-builder                                     latest      b0348faa7f41  20 months ago  779 MB\n"
     ]
    }
   ],
   "source": [
    "!podman images"
   ]
  },
  {
   "cell_type": "markdown",
   "metadata": {},
   "source": [
    "Another very intereting and widely used skopeo functionality is copying images from a source registry to a target registry with the \"skopeo copy\" command, by using it you don't need to have a copy of the image in your local system.\n",
    "\n",
    "## Advanced container image creation using buildah\n",
    "\n",
    "The command line tool buildah provides the hability of creating container images from a running container, a Containerfile or from scratch. The resulting images are OCI (Open Container Initiative) compliant, meaning that they will work with any container enginge that complies with the OCI standard such as podman, docker or CRI-O.\n",
    "\n",
    "![buildahlogo](Pictures/buildah.png)\n",
    "\n",
    "Most enterprises will be able to just work with Podman build capabilities, but if you need to cover an advanced use case like building a container image from scratch, that is without a base container image, buildah is definitely the tool you're looking for. We will not cover this use case in this workshop as it's quite advanced.\n",
    "\n",
    "## Podman for Desktop\n",
    "\n",
    "If you're not experienced with command line tools there is a super powerful tool that brings a graphical user experience to Podman, that is Podman Desktop. It is available for Windows, macOS and Linux.\n",
    "\n",
    "![PodmanDesktop](Pictures/Podman_Desktop.png)\n",
    "\n",
    "Moreover, Podman Desktop is not limited to Podman, it can also interact with kubernetes clusters and is a very helpful tool in the transition to containerized applications for enterprises that are willing to take this path.\n",
    "\n",
    "# Cleanup"
   ]
  },
  {
   "cell_type": "code",
   "execution_count": 27,
   "metadata": {
    "vscode": {
     "languageId": "shellscript"
    }
   },
   "outputs": [
    {
     "name": "stdout",
     "output_type": "stream",
     "text": [
      "Error: docker.io/redhat/ubi9: image not known\n"
     ]
    }
   ],
   "source": [
    "!podman stop --all\n",
    "!podman rm --all\n",
    "!podman rmi docker.io/redhat/ubi9\n",
    "!rm kubepodman.yml"
   ]
  }
 ],
 "metadata": {
  "kernelspec": {
   "display_name": "Python 3",
   "language": "python",
   "name": "python3"
  },
  "language_info": {
   "codemirror_mode": {
    "name": "ipython",
    "version": 3
   },
   "file_extension": ".py",
   "mimetype": "text/x-python",
   "name": "python",
   "nbconvert_exporter": "python",
   "pygments_lexer": "ipython3",
   "version": "3.11.6"
  }
 },
 "nbformat": 4,
 "nbformat_minor": 2
}
